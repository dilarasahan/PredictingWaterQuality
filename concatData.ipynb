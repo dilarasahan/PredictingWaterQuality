{
  "nbformat": 4,
  "nbformat_minor": 0,
  "metadata": {
    "colab": {
      "name": "concatData.ipynb",
      "provenance": [],
      "collapsed_sections": [],
      "toc_visible": true
    },
    "kernelspec": {
      "name": "python3",
      "display_name": "Python 3"
    },
    "accelerator": "GPU"
  },
  "cells": [
    {
      "cell_type": "code",
      "metadata": {
        "colab": {
          "base_uri": "https://localhost:8080/"
        },
        "id": "_7DWS1Ld9763",
        "outputId": "ea302b2b-fb60-43b2-a094-863faff1aac3"
      },
      "source": [
        "!pip install progressbar2"
      ],
      "execution_count": null,
      "outputs": [
        {
          "output_type": "stream",
          "text": [
            "Requirement already satisfied: progressbar2 in /usr/local/lib/python3.6/dist-packages (3.38.0)\n",
            "Requirement already satisfied: six in /usr/local/lib/python3.6/dist-packages (from progressbar2) (1.15.0)\n",
            "Requirement already satisfied: python-utils>=2.3.0 in /usr/local/lib/python3.6/dist-packages (from progressbar2) (2.4.0)\n"
          ],
          "name": "stdout"
        }
      ]
    },
    {
      "cell_type": "code",
      "metadata": {
        "id": "Ghd-KD_DdLxZ"
      },
      "source": [
        "import time\r\n",
        "import progressbar\r\n",
        "import pandas as pd\r\n",
        "import numpy as np\r\n",
        "from osgeo import ogr\r\n",
        "from numba import jit, cuda "
      ],
      "execution_count": null,
      "outputs": []
    },
    {
      "cell_type": "code",
      "metadata": {
        "colab": {
          "base_uri": "https://localhost:8080/"
        },
        "id": "180ERpqxYA8d",
        "outputId": "f1bb8af8-53bc-476b-fd86-8a2d982257db"
      },
      "source": [
        "!unzip /content/drive/MyDrive/WaterPollution/finalData.zip"
      ],
      "execution_count": null,
      "outputs": [
        {
          "output_type": "stream",
          "text": [
            "Archive:  /content/drive/MyDrive/WaterPollution/finalData.zip\n",
            "  inflating: finalData.csv           \n"
          ],
          "name": "stdout"
        }
      ]
    },
    {
      "cell_type": "code",
      "metadata": {
        "id": "Aju57LFCYeOM"
      },
      "source": [
        "MAIN_PATH = \"/content/finalData.csv\"\r\n",
        "POPULATION_PATH = \"/content/drive/MyDrive/WaterPollution/population_2018.csv\"\r\n",
        "PROTECTEDMARINES_PATH = \"/content/drive/MyDrive/WaterPollution/protectedMarinesData.csv\"\r\n",
        "TOURISTDATA = \"/content/drive/MyDrive/WaterPollution/touristData.csv\"\r\n",
        "MIGRATION_DATA = \"/content/drive/MyDrive/WaterPollution/migrationData.csv\"\r\n",
        "CLIMATE_DATA = \"/content/drive/MyDrive/WaterPollution/climateData.csv\"\r\n",
        "LITERACY_DATA = \"/content/drive/MyDrive/WaterPollution/literacyRate.csv\"\r\n",
        "RENEWABLE_DATA = \"/content/drive/MyDrive/WaterPollution/renewable.csv\"\r\n",
        "WASTE_DATA = \"/content/drive/MyDrive/WaterPollution/wasteData.csv\"\r\n",
        "DATA100K_PATH = \"/content/drive/MyDrive/WaterPollution/data100k.csv\" "
      ],
      "execution_count": null,
      "outputs": []
    },
    {
      "cell_type": "code",
      "metadata": {
        "id": "mHcgRoX3ZEHv"
      },
      "source": [
        "main_df = pd.read_csv(MAIN_PATH)\r\n",
        "populationData = pd.read_csv(POPULATION_PATH)\r\n",
        "protectedMarinesData = pd.read_csv(PROTECTEDMARINES_PATH)\r\n",
        "touristData = pd.read_csv(TOURISTDATA)\r\n",
        "migrationData = pd.read_csv(MIGRATION_DATA)\r\n",
        "climateData = pd.read_csv(CLIMATE_DATA)\r\n",
        "literacyData = pd.read_csv(LITERACY_DATA)\r\n",
        "renewableData = pd.read_csv(RENEWABLE_DATA)\r\n",
        "wasteData = pd.read_csv(WASTE_DATA)"
      ],
      "execution_count": null,
      "outputs": []
    },
    {
      "cell_type": "code",
      "metadata": {
        "colab": {
          "base_uri": "https://localhost:8080/",
          "height": 1000
        },
        "id": "ws3vvRPndmP4",
        "outputId": "93f0de7b-345f-4d87-c085-7dfc4e2951ca"
      },
      "source": [
        "a = pd.DataFrame((main_df.isna().sum() / main_df.shape[0])  * 100,columns=[\"naPercentage\"]).reset_index()\r\n",
        "a"
      ],
      "execution_count": null,
      "outputs": [
        {
          "output_type": "execute_result",
          "data": {
            "text/html": [
              "<div>\n",
              "<style scoped>\n",
              "    .dataframe tbody tr th:only-of-type {\n",
              "        vertical-align: middle;\n",
              "    }\n",
              "\n",
              "    .dataframe tbody tr th {\n",
              "        vertical-align: top;\n",
              "    }\n",
              "\n",
              "    .dataframe thead th {\n",
              "        text-align: right;\n",
              "    }\n",
              "</style>\n",
              "<table border=\"1\" class=\"dataframe\">\n",
              "  <thead>\n",
              "    <tr style=\"text-align: right;\">\n",
              "      <th></th>\n",
              "      <th>index</th>\n",
              "      <th>naPercentage</th>\n",
              "    </tr>\n",
              "  </thead>\n",
              "  <tbody>\n",
              "    <tr>\n",
              "      <th>0</th>\n",
              "      <td>monitoringSiteIdentifier</td>\n",
              "      <td>0.000000</td>\n",
              "    </tr>\n",
              "    <tr>\n",
              "      <th>1</th>\n",
              "      <td>monitoringSiteIdentifierScheme_x</td>\n",
              "      <td>0.000000</td>\n",
              "    </tr>\n",
              "    <tr>\n",
              "      <th>2</th>\n",
              "      <td>parameterWaterBodyCategory</td>\n",
              "      <td>0.000000</td>\n",
              "    </tr>\n",
              "    <tr>\n",
              "      <th>3</th>\n",
              "      <td>observedPropertyDeterminandCode</td>\n",
              "      <td>0.000000</td>\n",
              "    </tr>\n",
              "    <tr>\n",
              "      <th>4</th>\n",
              "      <td>procedureAnalysedFraction</td>\n",
              "      <td>0.000000</td>\n",
              "    </tr>\n",
              "    <tr>\n",
              "      <th>5</th>\n",
              "      <td>procedureAnalysedMedia</td>\n",
              "      <td>0.000000</td>\n",
              "    </tr>\n",
              "    <tr>\n",
              "      <th>6</th>\n",
              "      <td>resultUom</td>\n",
              "      <td>0.000000</td>\n",
              "    </tr>\n",
              "    <tr>\n",
              "      <th>7</th>\n",
              "      <td>phenomenonTimeReferenceYear</td>\n",
              "      <td>0.000000</td>\n",
              "    </tr>\n",
              "    <tr>\n",
              "      <th>8</th>\n",
              "      <td>parameterSamplingPeriod</td>\n",
              "      <td>1.002799</td>\n",
              "    </tr>\n",
              "    <tr>\n",
              "      <th>9</th>\n",
              "      <td>procedureLOQValue</td>\n",
              "      <td>50.268637</td>\n",
              "    </tr>\n",
              "    <tr>\n",
              "      <th>10</th>\n",
              "      <td>resultNumberOfSamples</td>\n",
              "      <td>2.066275</td>\n",
              "    </tr>\n",
              "    <tr>\n",
              "      <th>11</th>\n",
              "      <td>resultQualityNumberOfSamplesBelowLOQ</td>\n",
              "      <td>61.800894</td>\n",
              "    </tr>\n",
              "    <tr>\n",
              "      <th>12</th>\n",
              "      <td>resultQualityMinimumBelowLOQ</td>\n",
              "      <td>49.057895</td>\n",
              "    </tr>\n",
              "    <tr>\n",
              "      <th>13</th>\n",
              "      <td>resultMinimumValue</td>\n",
              "      <td>3.502774</td>\n",
              "    </tr>\n",
              "    <tr>\n",
              "      <th>14</th>\n",
              "      <td>resultQualityMeanBelowLOQ</td>\n",
              "      <td>49.152198</td>\n",
              "    </tr>\n",
              "    <tr>\n",
              "      <th>15</th>\n",
              "      <td>resultMeanValue</td>\n",
              "      <td>0.223682</td>\n",
              "    </tr>\n",
              "    <tr>\n",
              "      <th>16</th>\n",
              "      <td>resultQualityMaximumBelowLOQ</td>\n",
              "      <td>49.017213</td>\n",
              "    </tr>\n",
              "    <tr>\n",
              "      <th>17</th>\n",
              "      <td>resultMaximumValue</td>\n",
              "      <td>3.442235</td>\n",
              "    </tr>\n",
              "    <tr>\n",
              "      <th>18</th>\n",
              "      <td>resultQualityMedianBelowLOQ</td>\n",
              "      <td>71.111205</td>\n",
              "    </tr>\n",
              "    <tr>\n",
              "      <th>19</th>\n",
              "      <td>resultMedianValue</td>\n",
              "      <td>42.880172</td>\n",
              "    </tr>\n",
              "    <tr>\n",
              "      <th>20</th>\n",
              "      <td>resultStandardDeviationValue</td>\n",
              "      <td>21.401532</td>\n",
              "    </tr>\n",
              "    <tr>\n",
              "      <th>21</th>\n",
              "      <td>procedureAnalyticalMethod</td>\n",
              "      <td>86.668634</td>\n",
              "    </tr>\n",
              "    <tr>\n",
              "      <th>22</th>\n",
              "      <td>parameterSampleDepth</td>\n",
              "      <td>46.479704</td>\n",
              "    </tr>\n",
              "    <tr>\n",
              "      <th>23</th>\n",
              "      <td>resultObservationStatus</td>\n",
              "      <td>89.589993</td>\n",
              "    </tr>\n",
              "    <tr>\n",
              "      <th>24</th>\n",
              "      <td>Remarks</td>\n",
              "      <td>70.047971</td>\n",
              "    </tr>\n",
              "    <tr>\n",
              "      <th>25</th>\n",
              "      <td>metadata_versionId</td>\n",
              "      <td>0.000000</td>\n",
              "    </tr>\n",
              "    <tr>\n",
              "      <th>26</th>\n",
              "      <td>metadata_beginLifeSpanVersion</td>\n",
              "      <td>0.000000</td>\n",
              "    </tr>\n",
              "    <tr>\n",
              "      <th>27</th>\n",
              "      <td>metadata_statusCode</td>\n",
              "      <td>0.000000</td>\n",
              "    </tr>\n",
              "    <tr>\n",
              "      <th>28</th>\n",
              "      <td>metadata_observationStatus</td>\n",
              "      <td>0.000000</td>\n",
              "    </tr>\n",
              "    <tr>\n",
              "      <th>29</th>\n",
              "      <td>metadata_statements</td>\n",
              "      <td>96.545069</td>\n",
              "    </tr>\n",
              "    <tr>\n",
              "      <th>30</th>\n",
              "      <td>UID</td>\n",
              "      <td>0.000000</td>\n",
              "    </tr>\n",
              "    <tr>\n",
              "      <th>31</th>\n",
              "      <td>lon_x</td>\n",
              "      <td>100.000000</td>\n",
              "    </tr>\n",
              "    <tr>\n",
              "      <th>32</th>\n",
              "      <td>lat_x</td>\n",
              "      <td>100.000000</td>\n",
              "    </tr>\n",
              "    <tr>\n",
              "      <th>33</th>\n",
              "      <td>monitoringSiteIdentifierScheme_y</td>\n",
              "      <td>0.000000</td>\n",
              "    </tr>\n",
              "    <tr>\n",
              "      <th>34</th>\n",
              "      <td>waterBodyIdentifier</td>\n",
              "      <td>3.593029</td>\n",
              "    </tr>\n",
              "    <tr>\n",
              "      <th>35</th>\n",
              "      <td>waterBodyIdentifierScheme</td>\n",
              "      <td>3.593029</td>\n",
              "    </tr>\n",
              "    <tr>\n",
              "      <th>36</th>\n",
              "      <td>confidentialityStatus</td>\n",
              "      <td>0.000000</td>\n",
              "    </tr>\n",
              "    <tr>\n",
              "      <th>37</th>\n",
              "      <td>lon_y</td>\n",
              "      <td>100.000000</td>\n",
              "    </tr>\n",
              "    <tr>\n",
              "      <th>38</th>\n",
              "      <td>lat_y</td>\n",
              "      <td>100.000000</td>\n",
              "    </tr>\n",
              "    <tr>\n",
              "      <th>39</th>\n",
              "      <td>lon</td>\n",
              "      <td>0.000000</td>\n",
              "    </tr>\n",
              "    <tr>\n",
              "      <th>40</th>\n",
              "      <td>lat</td>\n",
              "      <td>0.000000</td>\n",
              "    </tr>\n",
              "  </tbody>\n",
              "</table>\n",
              "</div>"
            ],
            "text/plain": [
              "                                   index  naPercentage\n",
              "0               monitoringSiteIdentifier      0.000000\n",
              "1       monitoringSiteIdentifierScheme_x      0.000000\n",
              "2             parameterWaterBodyCategory      0.000000\n",
              "3        observedPropertyDeterminandCode      0.000000\n",
              "4              procedureAnalysedFraction      0.000000\n",
              "5                 procedureAnalysedMedia      0.000000\n",
              "6                              resultUom      0.000000\n",
              "7            phenomenonTimeReferenceYear      0.000000\n",
              "8                parameterSamplingPeriod      1.002799\n",
              "9                      procedureLOQValue     50.268637\n",
              "10                 resultNumberOfSamples      2.066275\n",
              "11  resultQualityNumberOfSamplesBelowLOQ     61.800894\n",
              "12          resultQualityMinimumBelowLOQ     49.057895\n",
              "13                    resultMinimumValue      3.502774\n",
              "14             resultQualityMeanBelowLOQ     49.152198\n",
              "15                       resultMeanValue      0.223682\n",
              "16          resultQualityMaximumBelowLOQ     49.017213\n",
              "17                    resultMaximumValue      3.442235\n",
              "18           resultQualityMedianBelowLOQ     71.111205\n",
              "19                     resultMedianValue     42.880172\n",
              "20          resultStandardDeviationValue     21.401532\n",
              "21             procedureAnalyticalMethod     86.668634\n",
              "22                  parameterSampleDepth     46.479704\n",
              "23               resultObservationStatus     89.589993\n",
              "24                               Remarks     70.047971\n",
              "25                    metadata_versionId      0.000000\n",
              "26         metadata_beginLifeSpanVersion      0.000000\n",
              "27                   metadata_statusCode      0.000000\n",
              "28            metadata_observationStatus      0.000000\n",
              "29                   metadata_statements     96.545069\n",
              "30                                   UID      0.000000\n",
              "31                                 lon_x    100.000000\n",
              "32                                 lat_x    100.000000\n",
              "33      monitoringSiteIdentifierScheme_y      0.000000\n",
              "34                   waterBodyIdentifier      3.593029\n",
              "35             waterBodyIdentifierScheme      3.593029\n",
              "36                 confidentialityStatus      0.000000\n",
              "37                                 lon_y    100.000000\n",
              "38                                 lat_y    100.000000\n",
              "39                                   lon      0.000000\n",
              "40                                   lat      0.000000"
            ]
          },
          "metadata": {
            "tags": []
          },
          "execution_count": 6
        }
      ]
    },
    {
      "cell_type": "code",
      "metadata": {
        "id": "enWSc0-nhX34"
      },
      "source": [
        "def cleanData(main_df):\r\n",
        "  main_df.drop([\"procedureLOQValue\",\"resultQualityNumberOfSamplesBelowLOQ\",\"resultQualityMinimumBelowLOQ\",\r\n",
        "                \"resultQualityMinimumBelowLOQ\",\"resultQualityMeanBelowLOQ\",\"resultQualityMedianBelowLOQ\",\r\n",
        "                \"resultMedianValue\",\"resultStandardDeviationValue\",\"procedureAnalyticalMethod\",\"parameterSampleDepth\",\r\n",
        "                \"resultObservationStatus\",\"Remarks\",\"metadata_statements\",\"lon_x\",\"lat_x\",\"lon_y\",\"lat_y\",\"resultQualityMaximumBelowLOQ\"],axis=1,\r\n",
        "              inplace = True)\r\n",
        "  main_df.dropna(axis=0,inplace=True)\r\n",
        "  main_df.drop([\"monitoringSiteIdentifier\",\"resultNumberOfSamples\",\"resultMinimumValue\",\"resultMaximumValue\",\"metadata_versionId\",\"metadata_beginLifeSpanVersion\",\"metadata_statusCode\",\r\n",
        "              \"metadata_observationStatus\",\"UID\",\"monitoringSiteIdentifierScheme_y\",\"waterBodyIdentifierScheme\",\"confidentialityStatus\"],axis=1,inplace = True)"
      ],
      "execution_count": null,
      "outputs": []
    },
    {
      "cell_type": "code",
      "metadata": {
        "id": "FYyoKo5imCVU"
      },
      "source": [
        "cleanData(main_df)"
      ],
      "execution_count": null,
      "outputs": []
    },
    {
      "cell_type": "code",
      "metadata": {
        "colab": {
          "base_uri": "https://localhost:8080/",
          "height": 241
        },
        "id": "tapdUHJfnUrm",
        "outputId": "86b47b88-224d-4256-8352-0dee399a650a"
      },
      "source": [
        "main_df.head()"
      ],
      "execution_count": null,
      "outputs": [
        {
          "output_type": "execute_result",
          "data": {
            "text/html": [
              "<div>\n",
              "<style scoped>\n",
              "    .dataframe tbody tr th:only-of-type {\n",
              "        vertical-align: middle;\n",
              "    }\n",
              "\n",
              "    .dataframe tbody tr th {\n",
              "        vertical-align: top;\n",
              "    }\n",
              "\n",
              "    .dataframe thead th {\n",
              "        text-align: right;\n",
              "    }\n",
              "</style>\n",
              "<table border=\"1\" class=\"dataframe\">\n",
              "  <thead>\n",
              "    <tr style=\"text-align: right;\">\n",
              "      <th></th>\n",
              "      <th>monitoringSiteIdentifierScheme_x</th>\n",
              "      <th>parameterWaterBodyCategory</th>\n",
              "      <th>observedPropertyDeterminandCode</th>\n",
              "      <th>procedureAnalysedFraction</th>\n",
              "      <th>procedureAnalysedMedia</th>\n",
              "      <th>resultUom</th>\n",
              "      <th>phenomenonTimeReferenceYear</th>\n",
              "      <th>parameterSamplingPeriod</th>\n",
              "      <th>resultMeanValue</th>\n",
              "      <th>waterBodyIdentifier</th>\n",
              "      <th>lon</th>\n",
              "      <th>lat</th>\n",
              "    </tr>\n",
              "  </thead>\n",
              "  <tbody>\n",
              "    <tr>\n",
              "      <th>0</th>\n",
              "      <td>euMonitoringSiteCode</td>\n",
              "      <td>RW</td>\n",
              "      <td>CAS_14797-65-0</td>\n",
              "      <td>total</td>\n",
              "      <td>water</td>\n",
              "      <td>mg{NO2}/L</td>\n",
              "      <td>2009</td>\n",
              "      <td>2009-01--2009-12</td>\n",
              "      <td>0.063310</td>\n",
              "      <td>FRDR609</td>\n",
              "      <td>4.99635</td>\n",
              "      <td>46.98310</td>\n",
              "    </tr>\n",
              "    <tr>\n",
              "      <th>1</th>\n",
              "      <td>euMonitoringSiteCode</td>\n",
              "      <td>RW</td>\n",
              "      <td>CAS_14797-65-0</td>\n",
              "      <td>total</td>\n",
              "      <td>water</td>\n",
              "      <td>mg{NO2}/L</td>\n",
              "      <td>2009</td>\n",
              "      <td>2009-01--2009-12</td>\n",
              "      <td>0.046733</td>\n",
              "      <td>FRFR238</td>\n",
              "      <td>-0.23809</td>\n",
              "      <td>43.67623</td>\n",
              "    </tr>\n",
              "    <tr>\n",
              "      <th>2</th>\n",
              "      <td>euMonitoringSiteCode</td>\n",
              "      <td>RW</td>\n",
              "      <td>EEA_3164-07-6</td>\n",
              "      <td>total</td>\n",
              "      <td>water</td>\n",
              "      <td>{massRatio}</td>\n",
              "      <td>2009</td>\n",
              "      <td>2009-01--2009-12</td>\n",
              "      <td>132.859000</td>\n",
              "      <td>FRFR238</td>\n",
              "      <td>-0.23809</td>\n",
              "      <td>43.67623</td>\n",
              "    </tr>\n",
              "    <tr>\n",
              "      <th>3</th>\n",
              "      <td>euMonitoringSiteCode</td>\n",
              "      <td>RW</td>\n",
              "      <td>CAS_14797-55-8</td>\n",
              "      <td>total</td>\n",
              "      <td>water</td>\n",
              "      <td>mg{NO3}/L</td>\n",
              "      <td>2009</td>\n",
              "      <td>2009-01--2009-12</td>\n",
              "      <td>11.578376</td>\n",
              "      <td>FRFR327C</td>\n",
              "      <td>-0.15118</td>\n",
              "      <td>43.65393</td>\n",
              "    </tr>\n",
              "    <tr>\n",
              "      <th>4</th>\n",
              "      <td>eionetMonitoringSiteCode</td>\n",
              "      <td>RW</td>\n",
              "      <td>EEA_3151-01-7</td>\n",
              "      <td>total</td>\n",
              "      <td>water</td>\n",
              "      <td>mmol/L</td>\n",
              "      <td>2009</td>\n",
              "      <td>2009-01--2009-12</td>\n",
              "      <td>0.206800</td>\n",
              "      <td>ES014MSPFES-014-NR-038-000-02-02</td>\n",
              "      <td>-7.59115</td>\n",
              "      <td>43.61870</td>\n",
              "    </tr>\n",
              "  </tbody>\n",
              "</table>\n",
              "</div>"
            ],
            "text/plain": [
              "  monitoringSiteIdentifierScheme_x  ...       lat\n",
              "0             euMonitoringSiteCode  ...  46.98310\n",
              "1             euMonitoringSiteCode  ...  43.67623\n",
              "2             euMonitoringSiteCode  ...  43.67623\n",
              "3             euMonitoringSiteCode  ...  43.65393\n",
              "4         eionetMonitoringSiteCode  ...  43.61870\n",
              "\n",
              "[5 rows x 12 columns]"
            ]
          },
          "metadata": {
            "tags": []
          },
          "execution_count": 9
        }
      ]
    },
    {
      "cell_type": "markdown",
      "metadata": {
        "id": "0tmEKtmNyiSN"
      },
      "source": [
        "# Concat Data by Country"
      ]
    },
    {
      "cell_type": "code",
      "metadata": {
        "id": "zGCfNgwJyjOb"
      },
      "source": [
        "class Point(object):\r\n",
        "    def __init__(self, lat, lng):\r\n",
        "        self.point = ogr.Geometry(ogr.wkbPoint)\r\n",
        "        self.point.AddPoint(lng, lat)\r\n",
        "    \r\n",
        "    def getOgr(self):\r\n",
        "        return self.point\r\n",
        "    ogr = property(getOgr)\r\n",
        "\r\n",
        "class Country(object):\r\n",
        "    def __init__(self, shape):\r\n",
        "        self.shape = shape\r\n",
        "    \r\n",
        "    def getIso(self):\r\n",
        "        return self.shape.GetField('ISO2')\r\n",
        "    iso = property(getIso)\r\n",
        "    \r\n",
        "    def __str__(self):\r\n",
        "        return self.shape.GetField('NAME')\r\n",
        "    \r\n",
        "    def contains(self, point):\r\n",
        "        return self.shape.geometry().Contains(point.ogr)\r\n",
        "\r\n",
        "class CountryChecker(object):\r\n",
        "    \r\n",
        "    def __init__(self, country_file):\r\n",
        "        driver = ogr.GetDriverByName('ESRI Shapefile')\r\n",
        "        self.countryFile = driver.Open(country_file)\r\n",
        "        self.layer = self.countryFile.GetLayer()\r\n",
        "    \r\n",
        "    def getCountry(self, point):\r\n",
        "        \r\n",
        "        for i in range(self.layer.GetFeatureCount()):\r\n",
        "            country = self.layer.GetFeature(i)\r\n",
        "            if country.geometry().Contains(point.ogr):\r\n",
        "                return Country(country)       \r\n",
        "        return None"
      ],
      "execution_count": null,
      "outputs": []
    },
    {
      "cell_type": "code",
      "metadata": {
        "colab": {
          "base_uri": "https://localhost:8080/"
        },
        "id": "sL4yS35j0JKH",
        "outputId": "d0d6f30a-6234-4000-da40-89819e8d3ac6"
      },
      "source": [
        "!wget http://thematicmapping.org/downloads/TM_WORLD_BORDERS-0.3.zip\r\n",
        "!unzip /content/TM_WORLD_BORDERS-0.3.zip"
      ],
      "execution_count": null,
      "outputs": [
        {
          "output_type": "stream",
          "text": [
            "--2021-01-04 13:34:05--  http://thematicmapping.org/downloads/TM_WORLD_BORDERS-0.3.zip\n",
            "Resolving thematicmapping.org (thematicmapping.org)... 67.20.120.230\n",
            "Connecting to thematicmapping.org (thematicmapping.org)|67.20.120.230|:80... connected.\n",
            "HTTP request sent, awaiting response... 200 OK\n",
            "Length: 3464707 (3.3M) [application/zip]\n",
            "Saving to: ‘TM_WORLD_BORDERS-0.3.zip’\n",
            "\n",
            "TM_WORLD_BORDERS-0. 100%[===================>]   3.30M  6.50MB/s    in 0.5s    \n",
            "\n",
            "2021-01-04 13:34:06 (6.50 MB/s) - ‘TM_WORLD_BORDERS-0.3.zip’ saved [3464707/3464707]\n",
            "\n",
            "Archive:  /content/TM_WORLD_BORDERS-0.3.zip\n",
            "  inflating: Readme.txt              \n",
            "  inflating: TM_WORLD_BORDERS-0.3.dbf  \n",
            "  inflating: TM_WORLD_BORDERS-0.3.prj  \n",
            "  inflating: TM_WORLD_BORDERS-0.3.shp  \n",
            "  inflating: TM_WORLD_BORDERS-0.3.shx  \n"
          ],
          "name": "stdout"
        }
      ]
    },
    {
      "cell_type": "code",
      "metadata": {
        "id": "9mt9UIcW1ge4"
      },
      "source": [
        "def getCountry(lat,lon,countryChecker = CountryChecker(\"/content/TM_WORLD_BORDERS-0.3.shp\")):\r\n",
        "  return str(countryChecker.getCountry(Point(lat,lon)))"
      ],
      "execution_count": null,
      "outputs": []
    },
    {
      "cell_type": "code",
      "metadata": {
        "id": "g3RAmo4A0yPr"
      },
      "source": [
        "@jit\r\n",
        "def fillCountry(main_df):\r\n",
        "  main_df[\"Country\"] = 0\r\n",
        "  for i in progressbar.progressbar(range(main_df.shape[0])):\r\n",
        "      lat, lon = main_df[\"lat\"][i], main_df[\"lon\"][i]\r\n",
        "      main_df[\"Country\"][i] = getCountry(lat,lon)"
      ],
      "execution_count": null,
      "outputs": []
    },
    {
      "cell_type": "code",
      "metadata": {
        "id": "qAPFOKxO_wVt"
      },
      "source": [
        "main_df.reset_index(inplace= True)\r\n",
        "new_data1 = main_df[:100000]"
      ],
      "execution_count": null,
      "outputs": []
    },
    {
      "cell_type": "code",
      "metadata": {
        "colab": {
          "base_uri": "https://localhost:8080/"
        },
        "id": "1y8uCq1o2IEw",
        "outputId": "64f7491e-c516-4a12-bf86-ddbcdd83776f"
      },
      "source": [
        "fillCountry(new_data1)"
      ],
      "execution_count": null,
      "outputs": [
        {
          "output_type": "stream",
          "text": [
            "/usr/local/lib/python3.6/dist-packages/ipykernel_launcher.py:1: SettingWithCopyWarning: \n",
            "A value is trying to be set on a copy of a slice from a DataFrame.\n",
            "Try using .loc[row_indexer,col_indexer] = value instead\n",
            "\n",
            "See the caveats in the documentation: https://pandas.pydata.org/pandas-docs/stable/user_guide/indexing.html#returning-a-view-versus-a-copy\n",
            "  \"\"\"Entry point for launching an IPython kernel.\n",
            "N/A% (0 of 100000) |                     | Elapsed Time: 0:00:00 ETA:  --:--:--/usr/local/lib/python3.6/dist-packages/ipykernel_launcher.py:1: SettingWithCopyWarning: \n",
            "A value is trying to be set on a copy of a slice from a DataFrame\n",
            "\n",
            "See the caveats in the documentation: https://pandas.pydata.org/pandas-docs/stable/user_guide/indexing.html#returning-a-view-versus-a-copy\n",
            "  \"\"\"Entry point for launching an IPython kernel.\n",
            "/usr/local/lib/python3.6/dist-packages/pandas/core/indexing.py:670: SettingWithCopyWarning: \n",
            "A value is trying to be set on a copy of a slice from a DataFrame\n",
            "\n",
            "See the caveats in the documentation: https://pandas.pydata.org/pandas-docs/stable/user_guide/indexing.html#returning-a-view-versus-a-copy\n",
            "  iloc._setitem_with_indexer(indexer, value)\n",
            "/usr/local/lib/python3.6/dist-packages/pandas/core/series.py:1009: SettingWithCopyWarning: \n",
            "A value is trying to be set on a copy of a slice from a DataFrame\n",
            "\n",
            "See the caveats in the documentation: https://pandas.pydata.org/pandas-docs/stable/user_guide/indexing.html#returning-a-view-versus-a-copy\n",
            "  self.loc[key] = value\n",
            "/usr/local/lib/python3.6/dist-packages/IPython/core/interactiveshell.py:2882: SettingWithCopyWarning: \n",
            "A value is trying to be set on a copy of a slice from a DataFrame\n",
            "\n",
            "See the caveats in the documentation: https://pandas.pydata.org/pandas-docs/stable/user_guide/indexing.html#returning-a-view-versus-a-copy\n",
            "  exec(code_obj, self.user_global_ns, self.user_ns)\n",
            "100% (100000 of 100000) |################| Elapsed Time: 0:42:41 Time:  0:42:41\n"
          ],
          "name": "stderr"
        }
      ]
    },
    {
      "cell_type": "code",
      "metadata": {
        "colab": {
          "base_uri": "https://localhost:8080/"
        },
        "id": "pvh0Wb-In6HS",
        "outputId": "ca356ec9-7cda-4fe3-cfa7-a398ac6478c2"
      },
      "source": [
        "new_data1[\"Country\"].unique()"
      ],
      "execution_count": null,
      "outputs": [
        {
          "output_type": "execute_result",
          "data": {
            "text/plain": [
              "array(['France', 'Spain', 'United Kingdom', 'Lithuania', 'Portugal',\n",
              "       'Austria', 'Bulgaria', 'Germany', 'Finland', 'Czech Republic',\n",
              "       'Belgium', 'Denmark', 'None', 'Italy', 'Ireland', 'Sweden',\n",
              "       'Romania', 'Serbia', 'Slovakia', 'Netherlands', 'Poland',\n",
              "       'Luxembourg', 'Switzerland', 'Latvia', 'Ukraine', 'Norway',\n",
              "       'Croatia', 'Belarus', 'Russia', 'Republic of Moldova', 'Slovenia',\n",
              "       'Greece', 'Bosnia and Herzegovina', 'Hungary'], dtype=object)"
            ]
          },
          "metadata": {
            "tags": []
          },
          "execution_count": 45
        }
      ]
    },
    {
      "cell_type": "code",
      "metadata": {
        "id": "fR-gn-h3yAeD"
      },
      "source": [
        "new_data1.to_csv(\"countryCsv.csv\",index=False)"
      ],
      "execution_count": null,
      "outputs": []
    },
    {
      "cell_type": "code",
      "metadata": {
        "colab": {
          "base_uri": "https://localhost:8080/"
        },
        "id": "zGoc-4k1y69V",
        "outputId": "cde451f5-181d-4c4c-f210-bff36c4f7144"
      },
      "source": [
        "print(5)"
      ],
      "execution_count": null,
      "outputs": [
        {
          "output_type": "stream",
          "text": [
            "5\n"
          ],
          "name": "stdout"
        }
      ]
    },
    {
      "cell_type": "code",
      "metadata": {
        "colab": {
          "base_uri": "https://localhost:8080/",
          "height": 204
        },
        "id": "0PZOZL6C3eQf",
        "outputId": "06558191-a628-4714-edca-cd743493f8ff"
      },
      "source": [
        "populationData.head()"
      ],
      "execution_count": null,
      "outputs": [
        {
          "output_type": "execute_result",
          "data": {
            "text/html": [
              "<div>\n",
              "<style scoped>\n",
              "    .dataframe tbody tr th:only-of-type {\n",
              "        vertical-align: middle;\n",
              "    }\n",
              "\n",
              "    .dataframe tbody tr th {\n",
              "        vertical-align: top;\n",
              "    }\n",
              "\n",
              "    .dataframe thead th {\n",
              "        text-align: right;\n",
              "    }\n",
              "</style>\n",
              "<table border=\"1\" class=\"dataframe\">\n",
              "  <thead>\n",
              "    <tr style=\"text-align: right;\">\n",
              "      <th></th>\n",
              "      <th>Country Name</th>\n",
              "      <th>Country Code</th>\n",
              "      <th>2018</th>\n",
              "    </tr>\n",
              "  </thead>\n",
              "  <tbody>\n",
              "    <tr>\n",
              "      <th>0</th>\n",
              "      <td>Aruba</td>\n",
              "      <td>ABW</td>\n",
              "      <td>588.027778</td>\n",
              "    </tr>\n",
              "    <tr>\n",
              "      <th>1</th>\n",
              "      <td>Afghanistan</td>\n",
              "      <td>AFG</td>\n",
              "      <td>56.937760</td>\n",
              "    </tr>\n",
              "    <tr>\n",
              "      <th>2</th>\n",
              "      <td>Angola</td>\n",
              "      <td>AGO</td>\n",
              "      <td>24.713052</td>\n",
              "    </tr>\n",
              "    <tr>\n",
              "      <th>3</th>\n",
              "      <td>Albania</td>\n",
              "      <td>ALB</td>\n",
              "      <td>104.612263</td>\n",
              "    </tr>\n",
              "    <tr>\n",
              "      <th>4</th>\n",
              "      <td>Andorra</td>\n",
              "      <td>AND</td>\n",
              "      <td>163.842553</td>\n",
              "    </tr>\n",
              "  </tbody>\n",
              "</table>\n",
              "</div>"
            ],
            "text/plain": [
              "  Country Name Country Code        2018\n",
              "0        Aruba          ABW  588.027778\n",
              "1  Afghanistan          AFG   56.937760\n",
              "2       Angola          AGO   24.713052\n",
              "3      Albania          ALB  104.612263\n",
              "4      Andorra          AND  163.842553"
            ]
          },
          "metadata": {
            "tags": []
          },
          "execution_count": 48
        }
      ]
    },
    {
      "cell_type": "code",
      "metadata": {
        "id": "1RzWqiKu3mDC"
      },
      "source": [
        "datas = (populationData,protectedMarinesData,touristData,migrationData,climateData,literacyData,renewableData)"
      ],
      "execution_count": null,
      "outputs": []
    },
    {
      "cell_type": "code",
      "metadata": {
        "id": "LO_ppa-I3sSO"
      },
      "source": [
        "for i in datas:\r\n",
        "  i.rename(columns = {\"Country Name\":\"Country\"},inplace=True)\r\n",
        "wasteData.rename(columns={\"country_name\":\"Country\"},inplace=True)"
      ],
      "execution_count": null,
      "outputs": []
    },
    {
      "cell_type": "code",
      "metadata": {
        "colab": {
          "base_uri": "https://localhost:8080/",
          "height": 204
        },
        "id": "AypIePWB4B-y",
        "outputId": "3bafeae8-8596-45ac-dbe6-3494a77162b5"
      },
      "source": [
        "touristData.head()"
      ],
      "execution_count": null,
      "outputs": [
        {
          "output_type": "execute_result",
          "data": {
            "text/html": [
              "<div>\n",
              "<style scoped>\n",
              "    .dataframe tbody tr th:only-of-type {\n",
              "        vertical-align: middle;\n",
              "    }\n",
              "\n",
              "    .dataframe tbody tr th {\n",
              "        vertical-align: top;\n",
              "    }\n",
              "\n",
              "    .dataframe thead th {\n",
              "        text-align: right;\n",
              "    }\n",
              "</style>\n",
              "<table border=\"1\" class=\"dataframe\">\n",
              "  <thead>\n",
              "    <tr style=\"text-align: right;\">\n",
              "      <th></th>\n",
              "      <th>Country</th>\n",
              "      <th>Country Code</th>\n",
              "      <th>TouristMean_1990_2020</th>\n",
              "    </tr>\n",
              "  </thead>\n",
              "  <tbody>\n",
              "    <tr>\n",
              "      <th>0</th>\n",
              "      <td>Aruba</td>\n",
              "      <td>ABW</td>\n",
              "      <td>755057</td>\n",
              "    </tr>\n",
              "    <tr>\n",
              "      <th>1</th>\n",
              "      <td>Afghanistan</td>\n",
              "      <td>AFG</td>\n",
              "      <td>0</td>\n",
              "    </tr>\n",
              "    <tr>\n",
              "      <th>2</th>\n",
              "      <td>Angola</td>\n",
              "      <td>AGO</td>\n",
              "      <td>231346</td>\n",
              "    </tr>\n",
              "    <tr>\n",
              "      <th>3</th>\n",
              "      <td>Albania</td>\n",
              "      <td>ALB</td>\n",
              "      <td>1379653</td>\n",
              "    </tr>\n",
              "    <tr>\n",
              "      <th>4</th>\n",
              "      <td>Andorra</td>\n",
              "      <td>AND</td>\n",
              "      <td>1975269</td>\n",
              "    </tr>\n",
              "  </tbody>\n",
              "</table>\n",
              "</div>"
            ],
            "text/plain": [
              "       Country Country Code  TouristMean_1990_2020\n",
              "0        Aruba          ABW                 755057\n",
              "1  Afghanistan          AFG                      0\n",
              "2       Angola          AGO                 231346\n",
              "3      Albania          ALB                1379653\n",
              "4      Andorra          AND                1975269"
            ]
          },
          "metadata": {
            "tags": []
          },
          "execution_count": 55
        }
      ]
    },
    {
      "cell_type": "code",
      "metadata": {
        "id": "MY7kjQZv4EEV"
      },
      "source": [
        "population = pd.merge(new_data1,populationData,how=\"left\",on = [\"Country\"])\r\n",
        "population.rename(columns = {\"2018\":\"PopulationDensity\"},inplace=True)"
      ],
      "execution_count": null,
      "outputs": []
    },
    {
      "cell_type": "code",
      "metadata": {
        "id": "P4mB0y5k4WiG"
      },
      "source": [
        "marines = pd.merge(population,protectedMarinesData,how=\"left\",on = [\"Country\"])"
      ],
      "execution_count": null,
      "outputs": []
    },
    {
      "cell_type": "code",
      "metadata": {
        "colab": {
          "base_uri": "https://localhost:8080/",
          "height": 258
        },
        "id": "0R96PN1u4XuO",
        "outputId": "f88aa5b3-51a2-4db7-ae65-14f0065183f7"
      },
      "source": [
        "allData = pd.merge(marines,touristData,how=\"left\",on = [\"Country\"])\r\n",
        "allData.head()"
      ],
      "execution_count": null,
      "outputs": [
        {
          "output_type": "execute_result",
          "data": {
            "text/html": [
              "<div>\n",
              "<style scoped>\n",
              "    .dataframe tbody tr th:only-of-type {\n",
              "        vertical-align: middle;\n",
              "    }\n",
              "\n",
              "    .dataframe tbody tr th {\n",
              "        vertical-align: top;\n",
              "    }\n",
              "\n",
              "    .dataframe thead th {\n",
              "        text-align: right;\n",
              "    }\n",
              "</style>\n",
              "<table border=\"1\" class=\"dataframe\">\n",
              "  <thead>\n",
              "    <tr style=\"text-align: right;\">\n",
              "      <th></th>\n",
              "      <th>level_0</th>\n",
              "      <th>index</th>\n",
              "      <th>monitoringSiteIdentifierScheme_x</th>\n",
              "      <th>parameterWaterBodyCategory</th>\n",
              "      <th>observedPropertyDeterminandCode</th>\n",
              "      <th>procedureAnalysedFraction</th>\n",
              "      <th>procedureAnalysedMedia</th>\n",
              "      <th>resultUom</th>\n",
              "      <th>phenomenonTimeReferenceYear</th>\n",
              "      <th>parameterSamplingPeriod</th>\n",
              "      <th>resultMeanValue</th>\n",
              "      <th>waterBodyIdentifier</th>\n",
              "      <th>lon</th>\n",
              "      <th>lat</th>\n",
              "      <th>Country</th>\n",
              "      <th>Country Code_x</th>\n",
              "      <th>PopulationDensity</th>\n",
              "      <th>Country Code_y</th>\n",
              "      <th>TerraMarineProtected_2016_2018</th>\n",
              "      <th>Country Code</th>\n",
              "      <th>TouristMean_1990_2020</th>\n",
              "    </tr>\n",
              "  </thead>\n",
              "  <tbody>\n",
              "    <tr>\n",
              "      <th>0</th>\n",
              "      <td>0</td>\n",
              "      <td>0</td>\n",
              "      <td>euMonitoringSiteCode</td>\n",
              "      <td>RW</td>\n",
              "      <td>CAS_14797-65-0</td>\n",
              "      <td>total</td>\n",
              "      <td>water</td>\n",
              "      <td>mg{NO2}/L</td>\n",
              "      <td>2009</td>\n",
              "      <td>2009-01--2009-12</td>\n",
              "      <td>0.063310</td>\n",
              "      <td>FRDR609</td>\n",
              "      <td>4.99635</td>\n",
              "      <td>46.98310</td>\n",
              "      <td>France</td>\n",
              "      <td>FRA</td>\n",
              "      <td>122.299437</td>\n",
              "      <td>FRA</td>\n",
              "      <td>30.831906</td>\n",
              "      <td>FRA</td>\n",
              "      <td>71176346.0</td>\n",
              "    </tr>\n",
              "    <tr>\n",
              "      <th>1</th>\n",
              "      <td>1</td>\n",
              "      <td>1</td>\n",
              "      <td>euMonitoringSiteCode</td>\n",
              "      <td>RW</td>\n",
              "      <td>CAS_14797-65-0</td>\n",
              "      <td>total</td>\n",
              "      <td>water</td>\n",
              "      <td>mg{NO2}/L</td>\n",
              "      <td>2009</td>\n",
              "      <td>2009-01--2009-12</td>\n",
              "      <td>0.046733</td>\n",
              "      <td>FRFR238</td>\n",
              "      <td>-0.23809</td>\n",
              "      <td>43.67623</td>\n",
              "      <td>France</td>\n",
              "      <td>FRA</td>\n",
              "      <td>122.299437</td>\n",
              "      <td>FRA</td>\n",
              "      <td>30.831906</td>\n",
              "      <td>FRA</td>\n",
              "      <td>71176346.0</td>\n",
              "    </tr>\n",
              "    <tr>\n",
              "      <th>2</th>\n",
              "      <td>2</td>\n",
              "      <td>2</td>\n",
              "      <td>euMonitoringSiteCode</td>\n",
              "      <td>RW</td>\n",
              "      <td>EEA_3164-07-6</td>\n",
              "      <td>total</td>\n",
              "      <td>water</td>\n",
              "      <td>{massRatio}</td>\n",
              "      <td>2009</td>\n",
              "      <td>2009-01--2009-12</td>\n",
              "      <td>132.859000</td>\n",
              "      <td>FRFR238</td>\n",
              "      <td>-0.23809</td>\n",
              "      <td>43.67623</td>\n",
              "      <td>France</td>\n",
              "      <td>FRA</td>\n",
              "      <td>122.299437</td>\n",
              "      <td>FRA</td>\n",
              "      <td>30.831906</td>\n",
              "      <td>FRA</td>\n",
              "      <td>71176346.0</td>\n",
              "    </tr>\n",
              "    <tr>\n",
              "      <th>3</th>\n",
              "      <td>3</td>\n",
              "      <td>3</td>\n",
              "      <td>euMonitoringSiteCode</td>\n",
              "      <td>RW</td>\n",
              "      <td>CAS_14797-55-8</td>\n",
              "      <td>total</td>\n",
              "      <td>water</td>\n",
              "      <td>mg{NO3}/L</td>\n",
              "      <td>2009</td>\n",
              "      <td>2009-01--2009-12</td>\n",
              "      <td>11.578376</td>\n",
              "      <td>FRFR327C</td>\n",
              "      <td>-0.15118</td>\n",
              "      <td>43.65393</td>\n",
              "      <td>France</td>\n",
              "      <td>FRA</td>\n",
              "      <td>122.299437</td>\n",
              "      <td>FRA</td>\n",
              "      <td>30.831906</td>\n",
              "      <td>FRA</td>\n",
              "      <td>71176346.0</td>\n",
              "    </tr>\n",
              "    <tr>\n",
              "      <th>4</th>\n",
              "      <td>4</td>\n",
              "      <td>4</td>\n",
              "      <td>eionetMonitoringSiteCode</td>\n",
              "      <td>RW</td>\n",
              "      <td>EEA_3151-01-7</td>\n",
              "      <td>total</td>\n",
              "      <td>water</td>\n",
              "      <td>mmol/L</td>\n",
              "      <td>2009</td>\n",
              "      <td>2009-01--2009-12</td>\n",
              "      <td>0.206800</td>\n",
              "      <td>ES014MSPFES-014-NR-038-000-02-02</td>\n",
              "      <td>-7.59115</td>\n",
              "      <td>43.61870</td>\n",
              "      <td>Spain</td>\n",
              "      <td>ESP</td>\n",
              "      <td>93.677197</td>\n",
              "      <td>ESP</td>\n",
              "      <td>15.047884</td>\n",
              "      <td>ESP</td>\n",
              "      <td>50941692.0</td>\n",
              "    </tr>\n",
              "  </tbody>\n",
              "</table>\n",
              "</div>"
            ],
            "text/plain": [
              "   level_0  index  ... Country Code TouristMean_1990_2020\n",
              "0        0      0  ...          FRA            71176346.0\n",
              "1        1      1  ...          FRA            71176346.0\n",
              "2        2      2  ...          FRA            71176346.0\n",
              "3        3      3  ...          FRA            71176346.0\n",
              "4        4      4  ...          ESP            50941692.0\n",
              "\n",
              "[5 rows x 21 columns]"
            ]
          },
          "metadata": {
            "tags": []
          },
          "execution_count": 61
        }
      ]
    },
    {
      "cell_type": "code",
      "metadata": {
        "id": "v_O11rdZ3_FZ"
      },
      "source": [
        "allData = pd.merge(allData,migrationData,how=\"left\",on = [\"Country\"])\r\n",
        "allData = pd.merge(allData,climateData,how=\"left\",on = [\"Country\"])\r\n",
        "allData = pd.merge(allData,literacyData,how=\"left\",on = [\"Country\"])\r\n",
        "allData = pd.merge(allData,renewableData,how=\"left\",on = [\"Country\"])\r\n",
        "allData = pd.merge(allData,wasteData,how=\"left\",on = [\"Country\"])"
      ],
      "execution_count": null,
      "outputs": []
    },
    {
      "cell_type": "code",
      "metadata": {
        "colab": {
          "base_uri": "https://localhost:8080/"
        },
        "id": "1rvuQbYo4_-R",
        "outputId": "9d22cb3f-c234-4f5d-a949-13196937317c"
      },
      "source": [
        "allData.columns"
      ],
      "execution_count": null,
      "outputs": [
        {
          "output_type": "execute_result",
          "data": {
            "text/plain": [
              "Index(['level_0', 'index', 'monitoringSiteIdentifierScheme_x',\n",
              "       'parameterWaterBodyCategory', 'observedPropertyDeterminandCode',\n",
              "       'procedureAnalysedFraction', 'procedureAnalysedMedia', 'resultUom',\n",
              "       'phenomenonTimeReferenceYear', 'parameterSamplingPeriod',\n",
              "       'resultMeanValue', 'waterBodyIdentifier', 'lon', 'lat', 'Country',\n",
              "       'Country Code_x', 'PopulationDensity', 'Country Code_y',\n",
              "       'TerraMarineProtected_2016_2018', 'Country Code',\n",
              "       'TouristMean_1990_2020'],\n",
              "      dtype='object')"
            ]
          },
          "metadata": {
            "tags": []
          },
          "execution_count": 62
        }
      ]
    },
    {
      "cell_type": "code",
      "metadata": {
        "id": "GkZeze9s4mKh"
      },
      "source": [
        "allData.drop([\"Country Code_x\",\"Country Code_y\",\"Country Code\",\"level_0\",\"index\"],axis = 1 ,inplace = True)"
      ],
      "execution_count": null,
      "outputs": []
    },
    {
      "cell_type": "code",
      "metadata": {
        "id": "7fBE5dnp5Hwp"
      },
      "source": [
        "allData.to_csv(\"data100k.csv\",index=False)"
      ],
      "execution_count": null,
      "outputs": []
    },
    {
      "cell_type": "markdown",
      "metadata": {
        "id": "ahg-6dFAc8LT"
      },
      "source": [
        "# VENUES"
      ]
    },
    {
      "cell_type": "code",
      "metadata": {
        "id": "JcH1tMsI5L9g"
      },
      "source": [
        "newData = pd.read_csv(DATA100K_PATH)"
      ],
      "execution_count": null,
      "outputs": []
    },
    {
      "cell_type": "code",
      "metadata": {
        "id": "8JmOP78_F3ZV"
      },
      "source": [
        "from pandas.io.json import json_normalize\r\n",
        "import pandas as pd\r\n",
        "import requests\r\n",
        "\r\n",
        "class FoursquareAPI():\r\n",
        "\tdef __init__(self,lat, lon, limit = 100, radius = 500):\r\n",
        "\t\tself.lat = lat\r\n",
        "\t\tself.lon = lon\r\n",
        "\t\tself.limit = limit\r\n",
        "\t\tself.radius = radius\r\n",
        "\t\tself.clientID = \"B3UDNS1NEH0N0J3SOUDKQM3GKQWSXLBCC33TXEI51KGSZJCP\"\r\n",
        "\t\tself.clientSecret = \"LTUFQKVIX1GRWZWXN31E5TLAIMJKFAOX14S0MMUANGQBGI3V\"\r\n",
        "\t\tself.version = \"20180604\"\r\n",
        "\t\tself.queryResults = pd.DataFrame()\r\n",
        "\t\tself.status = 0\r\n",
        "\r\n",
        "\tdef setParams(self,lat = None,lon = None,limit = None,radius = None):\r\n",
        "\t\tif lat != None:\r\n",
        "\t\t\tself.lat = lat\r\n",
        "\t\tif lon != None:\r\n",
        "\t\t\tself.lon = lon\r\n",
        "\t\tif limit != None:\r\n",
        "\t\t\tself.limit = limit\r\n",
        "\t\tif radius != None:\r\n",
        "\t\t\tself.radius = radius\r\n",
        "\r\n",
        "\tdef get_category_type(self,row):\r\n",
        "\t\ttry:\r\n",
        "\t\t\tcategories_list = row['categories']\r\n",
        "\t\texcept:\r\n",
        "\t\t\tcategories_list = row['venue.categories']\r\n",
        "\t\t\t\r\n",
        "\t\tif len(categories_list) == 0:\r\n",
        "\t\t\treturn None\r\n",
        "\t\telse:\r\n",
        "\t\t\treturn categories_list[0]['name']\r\n",
        "\r\n",
        "\tdef runQuery(self):\r\n",
        "\t\turl = 'https://api.foursquare.com/v2/venues/explore?&client_id={}&client_secret={}&v={}&ll={},{}&radius={}&limit={}'.format(self.clientID, self.clientSecret, self.version, self.lat,self.lon,self.radius,self.limit)\r\n",
        "\t\tresults = requests.get(url).json()\r\n",
        "\t\ttry:\r\n",
        "\t\t\tvenues = results['response']['groups'][0]['items']\r\n",
        "\r\n",
        "              #flatten JSON, Normalize JSON to Dataframe\r\n",
        "\t\t\tdataframe = json_normalize(venues) \r\n",
        "\r\n",
        "              # filter columns,consider only required columns\r\n",
        "              \r\n",
        "\t\t\tfiltered_columns = ['venue.name', 'venue.categories'] + [col for col in dataframe.columns if col.startswith('venue.location.')] + ['venue.id']\r\n",
        "\t\t\tself.queryResults = dataframe.loc[:, filtered_columns]\r\n",
        "\r\n",
        "                # filter the category for each row\r\n",
        "\t\t\tself.queryResults['venue.categories'] = self.queryResults.apply(self.get_category_type, axis=1)\r\n",
        "\r\n",
        "                # clean columns\r\n",
        "\t\t\tself.queryResults.columns = [col.split('.')[-1] for col in self.queryResults.columns]\r\n",
        "\t\t\tself.status = 2\r\n",
        "\t\texcept:\r\n",
        "\t\t\tself.status = 1\r\n",
        "\r\n",
        "\tdef getVenuesTable(self):\r\n",
        "\t\tif self.status == 0:\r\n",
        "\t\t\traise Exception(\"Run the query first. queryResults table is empty.\")\r\n",
        "\t\telif self.status == 1:\r\n",
        "\t\t\traise Exception(f\"Table is empty,there are not any venues in {self.radius} radius\")\r\n",
        "\t\telse:\r\n",
        "\t\t\treturn self.queryResults\r\n",
        "\r\n",
        "\tdef getVenuesCount(self):\r\n",
        "\t\tif self.status == 0:\r\n",
        "\t\t\traise Exception(\"Run the query first. queryResults table is empty.\")\t\t\r\n",
        "\t\telif self.status == 1:\r\n",
        "\t\t\treturn 0\r\n",
        "\t\telse:\r\n",
        "\t\t\treturn self.queryResults.shape[0]\r\n",
        "\t\t\t\r\n",
        "\r\n",
        "\tdef getParams(self):\r\n",
        "\t\tparams = {\"Latitude\": self.lat,\"Longtitude\" : self.lon, \"Radius\": self.radius, \"Place_limit\": self.limit,\r\n",
        "\t\t\"Client_id\" : self.clientID, \"Client_secret\": self.clientSecret,\"Version\":self.version}\r\n",
        "\t\treturn params\r\n"
      ],
      "execution_count": null,
      "outputs": []
    },
    {
      "cell_type": "code",
      "metadata": {
        "id": "u63_IvKm2t04"
      },
      "source": [
        "subData = newData[:20000]"
      ],
      "execution_count": null,
      "outputs": []
    },
    {
      "cell_type": "code",
      "metadata": {
        "id": "CvZGQ4RXF2L9"
      },
      "source": [
        "def getVenueCount(main_df):\r\n",
        "  main_df[\"VenueCount\"] = np.nan\r\n",
        "  api = FoursquareAPI(0,0,radius=1000)\r\n",
        "  for i in progressbar.progressbar(range(main_df.shape[0])):\r\n",
        "      api.setParams(lat = main_df[\"lat\"][i],lon = main_df[\"lon\"][i])\r\n",
        "      api.runQuery()\r\n",
        "      main_df[\"VenueCount\"][i] = api.getVenuesCount()"
      ],
      "execution_count": null,
      "outputs": []
    },
    {
      "cell_type": "code",
      "metadata": {
        "colab": {
          "base_uri": "https://localhost:8080/"
        },
        "id": "UVAuxtHnK3l4",
        "outputId": "ee8a0798-e8e2-42b9-f4e4-2913030587f5"
      },
      "source": [
        "getVenueCount(subData)"
      ],
      "execution_count": null,
      "outputs": [
        {
          "output_type": "stream",
          "text": [
            "/usr/local/lib/python3.6/dist-packages/ipykernel_launcher.py:2: SettingWithCopyWarning: \n",
            "A value is trying to be set on a copy of a slice from a DataFrame.\n",
            "Try using .loc[row_indexer,col_indexer] = value instead\n",
            "\n",
            "See the caveats in the documentation: https://pandas.pydata.org/pandas-docs/stable/user_guide/indexing.html#returning-a-view-versus-a-copy\n",
            "  \n",
            "N/A% (0 of 20000) |                      | Elapsed Time: 0:00:00 ETA:  --:--:--/usr/local/lib/python3.6/dist-packages/ipykernel_launcher.py:45: FutureWarning: pandas.io.json.json_normalize is deprecated, use pandas.json_normalize instead\n",
            "/usr/local/lib/python3.6/dist-packages/ipykernel_launcher.py:7: SettingWithCopyWarning: \n",
            "A value is trying to be set on a copy of a slice from a DataFrame\n",
            "\n",
            "See the caveats in the documentation: https://pandas.pydata.org/pandas-docs/stable/user_guide/indexing.html#returning-a-view-versus-a-copy\n",
            "  import sys\n",
            "/usr/local/lib/python3.6/dist-packages/ipykernel_launcher.py:1: SettingWithCopyWarning: \n",
            "A value is trying to be set on a copy of a slice from a DataFrame\n",
            "\n",
            "See the caveats in the documentation: https://pandas.pydata.org/pandas-docs/stable/user_guide/indexing.html#returning-a-view-versus-a-copy\n",
            "  \"\"\"Entry point for launching an IPython kernel.\n",
            "100% (20000 of 20000) |##################| Elapsed Time: 0:34:49 Time:  0:34:49\n"
          ],
          "name": "stderr"
        }
      ]
    },
    {
      "cell_type": "code",
      "metadata": {
        "id": "Axp7Kx1RdqJN"
      },
      "source": [
        "subData.to_csv(\"dataWithVenues.csv\",index = False)"
      ],
      "execution_count": null,
      "outputs": []
    },
    {
      "cell_type": "markdown",
      "metadata": {
        "id": "AdbJ5PycLodI"
      },
      "source": [
        "#OSMNX"
      ]
    },
    {
      "cell_type": "code",
      "metadata": {
        "colab": {
          "base_uri": "https://localhost:8080/",
          "height": 1000
        },
        "id": "UyTgBwFELBa5",
        "outputId": "c91cf4f4-20b1-46fe-dbb0-58a348e72159"
      },
      "source": [
        "!apt install python3-rtree\r\n",
        "!pip install osmnx==0.16.2"
      ],
      "execution_count": null,
      "outputs": [
        {
          "output_type": "stream",
          "text": [
            "Reading package lists... Done\n",
            "Building dependency tree       \n",
            "Reading state information... Done\n",
            "The following additional packages will be installed:\n",
            "  libspatialindex-c4v5 libspatialindex-dev libspatialindex4v5\n",
            "  python3-pkg-resources\n",
            "Suggested packages:\n",
            "  python3-setuptools\n",
            "The following NEW packages will be installed:\n",
            "  libspatialindex-c4v5 libspatialindex-dev libspatialindex4v5\n",
            "  python3-pkg-resources python3-rtree\n",
            "0 upgraded, 5 newly installed, 0 to remove and 16 not upgraded.\n",
            "Need to get 671 kB of archives.\n",
            "After this operation, 3,948 kB of additional disk space will be used.\n",
            "Get:1 http://archive.ubuntu.com/ubuntu bionic/universe amd64 libspatialindex4v5 amd64 1.8.5-5 [219 kB]\n",
            "Get:2 http://archive.ubuntu.com/ubuntu bionic/universe amd64 libspatialindex-c4v5 amd64 1.8.5-5 [51.7 kB]\n",
            "Get:3 http://archive.ubuntu.com/ubuntu bionic/main amd64 python3-pkg-resources all 39.0.1-2 [98.8 kB]\n",
            "Get:4 http://archive.ubuntu.com/ubuntu bionic/universe amd64 libspatialindex-dev amd64 1.8.5-5 [285 kB]\n",
            "Get:5 http://archive.ubuntu.com/ubuntu bionic/universe amd64 python3-rtree all 0.8.3+ds-1 [16.9 kB]\n",
            "Fetched 671 kB in 1s (969 kB/s)\n",
            "Selecting previously unselected package libspatialindex4v5:amd64.\n",
            "(Reading database ... 145483 files and directories currently installed.)\n",
            "Preparing to unpack .../libspatialindex4v5_1.8.5-5_amd64.deb ...\n",
            "Unpacking libspatialindex4v5:amd64 (1.8.5-5) ...\n",
            "Selecting previously unselected package libspatialindex-c4v5:amd64.\n",
            "Preparing to unpack .../libspatialindex-c4v5_1.8.5-5_amd64.deb ...\n",
            "Unpacking libspatialindex-c4v5:amd64 (1.8.5-5) ...\n",
            "Selecting previously unselected package python3-pkg-resources.\n",
            "Preparing to unpack .../python3-pkg-resources_39.0.1-2_all.deb ...\n",
            "Unpacking python3-pkg-resources (39.0.1-2) ...\n",
            "Selecting previously unselected package libspatialindex-dev:amd64.\n",
            "Preparing to unpack .../libspatialindex-dev_1.8.5-5_amd64.deb ...\n",
            "Unpacking libspatialindex-dev:amd64 (1.8.5-5) ...\n",
            "Selecting previously unselected package python3-rtree.\n",
            "Preparing to unpack .../python3-rtree_0.8.3+ds-1_all.deb ...\n",
            "Unpacking python3-rtree (0.8.3+ds-1) ...\n",
            "Setting up libspatialindex4v5:amd64 (1.8.5-5) ...\n",
            "Setting up python3-pkg-resources (39.0.1-2) ...\n",
            "Setting up libspatialindex-c4v5:amd64 (1.8.5-5) ...\n",
            "Setting up libspatialindex-dev:amd64 (1.8.5-5) ...\n",
            "Setting up python3-rtree (0.8.3+ds-1) ...\n",
            "Processing triggers for libc-bin (2.27-3ubuntu1.2) ...\n",
            "/sbin/ldconfig.real: /usr/local/lib/python3.6/dist-packages/ideep4py/lib/libmkldnn.so.0 is not a symbolic link\n",
            "\n",
            "Collecting osmnx==0.16.2\n",
            "\u001b[?25l  Downloading https://files.pythonhosted.org/packages/90/0d/b65138a596a674fca07257091573748a2f39b09344bea17a68f1a2899ee6/osmnx-0.16.2-py2.py3-none-any.whl (87kB)\n",
            "\u001b[K     |████████████████████████████████| 92kB 6.2MB/s \n",
            "\u001b[?25hCollecting requests>=2.24\n",
            "\u001b[?25l  Downloading https://files.pythonhosted.org/packages/29/c1/24814557f1d22c56d50280771a17307e6bf87b70727d975fd6b2ce6b014a/requests-2.25.1-py2.py3-none-any.whl (61kB)\n",
            "\u001b[K     |████████████████████████████████| 61kB 6.8MB/s \n",
            "\u001b[?25hRequirement already satisfied: networkx>=2.5 in /usr/local/lib/python3.6/dist-packages (from osmnx==0.16.2) (2.5)\n",
            "Collecting Rtree>=0.9\n",
            "\u001b[?25l  Downloading https://files.pythonhosted.org/packages/1f/f4/0d893e8fa281d370c728dc42dc457f4f6128ea4a96a98442eb20755daee6/Rtree-0.9.7-cp36-cp36m-manylinux2010_x86_64.whl (994kB)\n",
            "\u001b[K     |████████████████████████████████| 1.0MB 33.3MB/s \n",
            "\u001b[?25hRequirement already satisfied: Shapely>=1.7 in /usr/local/lib/python3.6/dist-packages (from osmnx==0.16.2) (1.7.1)\n",
            "Collecting matplotlib>=3.3\n",
            "\u001b[?25l  Downloading https://files.pythonhosted.org/packages/d2/43/2bd63467490036697e7be71444fafc7b236923d614d4521979a200c6b559/matplotlib-3.3.3-cp36-cp36m-manylinux1_x86_64.whl (11.6MB)\n",
            "\u001b[K     |████████████████████████████████| 11.6MB 260kB/s \n",
            "\u001b[?25hCollecting geopandas>=0.8\n",
            "\u001b[?25l  Downloading https://files.pythonhosted.org/packages/f7/a4/e66aafbefcbb717813bf3a355c8c4fc3ed04ea1dd7feb2920f2f4f868921/geopandas-0.8.1-py2.py3-none-any.whl (962kB)\n",
            "\u001b[K     |████████████████████████████████| 972kB 39.3MB/s \n",
            "\u001b[?25hRequirement already satisfied: descartes>=1.1 in /usr/local/lib/python3.6/dist-packages (from osmnx==0.16.2) (1.1.0)\n",
            "Requirement already satisfied: numpy>=1.19 in /usr/local/lib/python3.6/dist-packages (from osmnx==0.16.2) (1.19.4)\n",
            "Requirement already satisfied: pandas>=1.1 in /usr/local/lib/python3.6/dist-packages (from osmnx==0.16.2) (1.1.5)\n",
            "Collecting pyproj>=2.6\n",
            "\u001b[?25l  Downloading https://files.pythonhosted.org/packages/e4/ab/280e80a67cfc109d15428c0ec56391fc03a65857b7727cf4e6e6f99a4204/pyproj-3.0.0.post1-cp36-cp36m-manylinux2010_x86_64.whl (6.4MB)\n",
            "\u001b[K     |████████████████████████████████| 6.5MB 40.5MB/s \n",
            "\u001b[?25hRequirement already satisfied: urllib3<1.27,>=1.21.1 in /usr/local/lib/python3.6/dist-packages (from requests>=2.24->osmnx==0.16.2) (1.24.3)\n",
            "Requirement already satisfied: chardet<5,>=3.0.2 in /usr/local/lib/python3.6/dist-packages (from requests>=2.24->osmnx==0.16.2) (3.0.4)\n",
            "Requirement already satisfied: idna<3,>=2.5 in /usr/local/lib/python3.6/dist-packages (from requests>=2.24->osmnx==0.16.2) (2.10)\n",
            "Requirement already satisfied: certifi>=2017.4.17 in /usr/local/lib/python3.6/dist-packages (from requests>=2.24->osmnx==0.16.2) (2020.12.5)\n",
            "Requirement already satisfied: decorator>=4.3.0 in /usr/local/lib/python3.6/dist-packages (from networkx>=2.5->osmnx==0.16.2) (4.4.2)\n",
            "Requirement already satisfied: cycler>=0.10 in /usr/local/lib/python3.6/dist-packages (from matplotlib>=3.3->osmnx==0.16.2) (0.10.0)\n",
            "Requirement already satisfied: python-dateutil>=2.1 in /usr/local/lib/python3.6/dist-packages (from matplotlib>=3.3->osmnx==0.16.2) (2.8.1)\n",
            "Requirement already satisfied: pillow>=6.2.0 in /usr/local/lib/python3.6/dist-packages (from matplotlib>=3.3->osmnx==0.16.2) (7.0.0)\n",
            "Requirement already satisfied: pyparsing!=2.0.4,!=2.1.2,!=2.1.6,>=2.0.3 in /usr/local/lib/python3.6/dist-packages (from matplotlib>=3.3->osmnx==0.16.2) (2.4.7)\n",
            "Requirement already satisfied: kiwisolver>=1.0.1 in /usr/local/lib/python3.6/dist-packages (from matplotlib>=3.3->osmnx==0.16.2) (1.3.1)\n",
            "Collecting fiona\n",
            "\u001b[?25l  Downloading https://files.pythonhosted.org/packages/37/94/4910fd55246c1d963727b03885ead6ef1cd3748a465f7b0239ab25dfc9a3/Fiona-1.8.18-cp36-cp36m-manylinux1_x86_64.whl (14.8MB)\n",
            "\u001b[K     |████████████████████████████████| 14.8MB 211kB/s \n",
            "\u001b[?25hRequirement already satisfied: pytz>=2017.2 in /usr/local/lib/python3.6/dist-packages (from pandas>=1.1->osmnx==0.16.2) (2018.9)\n",
            "Requirement already satisfied: six in /usr/local/lib/python3.6/dist-packages (from cycler>=0.10->matplotlib>=3.3->osmnx==0.16.2) (1.15.0)\n",
            "Collecting click-plugins>=1.0\n",
            "  Downloading https://files.pythonhosted.org/packages/e9/da/824b92d9942f4e472702488857914bdd50f73021efea15b4cad9aca8ecef/click_plugins-1.1.1-py2.py3-none-any.whl\n",
            "Requirement already satisfied: attrs>=17 in /usr/local/lib/python3.6/dist-packages (from fiona->geopandas>=0.8->osmnx==0.16.2) (20.3.0)\n",
            "Collecting cligj>=0.5\n",
            "  Downloading https://files.pythonhosted.org/packages/42/1e/947eadf10d6804bf276eb8a038bd5307996dceaaa41cfd21b7a15ec62f5d/cligj-0.7.1-py3-none-any.whl\n",
            "Collecting munch\n",
            "  Downloading https://files.pythonhosted.org/packages/cc/ab/85d8da5c9a45e072301beb37ad7f833cd344e04c817d97e0cc75681d248f/munch-2.5.0-py2.py3-none-any.whl\n",
            "Requirement already satisfied: click<8,>=4.0 in /usr/local/lib/python3.6/dist-packages (from fiona->geopandas>=0.8->osmnx==0.16.2) (7.1.2)\n",
            "\u001b[31mERROR: google-colab 1.0.0 has requirement requests~=2.23.0, but you'll have requests 2.25.1 which is incompatible.\u001b[0m\n",
            "\u001b[31mERROR: datascience 0.10.6 has requirement folium==0.2.1, but you'll have folium 0.8.3 which is incompatible.\u001b[0m\n",
            "\u001b[31mERROR: albumentations 0.1.12 has requirement imgaug<0.2.7,>=0.2.5, but you'll have imgaug 0.2.9 which is incompatible.\u001b[0m\n",
            "Installing collected packages: requests, Rtree, matplotlib, click-plugins, cligj, munch, fiona, pyproj, geopandas, osmnx\n",
            "  Found existing installation: requests 2.23.0\n",
            "    Uninstalling requests-2.23.0:\n",
            "      Successfully uninstalled requests-2.23.0\n",
            "  Found existing installation: Rtree 0.8.3\n",
            "    Uninstalling Rtree-0.8.3:\n",
            "      Successfully uninstalled Rtree-0.8.3\n",
            "  Found existing installation: matplotlib 3.2.2\n",
            "    Uninstalling matplotlib-3.2.2:\n",
            "      Successfully uninstalled matplotlib-3.2.2\n",
            "Successfully installed Rtree-0.9.7 click-plugins-1.1.1 cligj-0.7.1 fiona-1.8.18 geopandas-0.8.1 matplotlib-3.3.3 munch-2.5.0 osmnx-0.16.2 pyproj-3.0.0.post1 requests-2.25.1\n"
          ],
          "name": "stdout"
        },
        {
          "output_type": "display_data",
          "data": {
            "application/vnd.colab-display-data+json": {
              "pip_warning": {
                "packages": [
                  "matplotlib",
                  "mpl_toolkits"
                ]
              }
            }
          },
          "metadata": {
            "tags": []
          }
        }
      ]
    },
    {
      "cell_type": "code",
      "metadata": {
        "id": "j1ETT4CAOPaG"
      },
      "source": [
        "subData = pd.read_csv(\"dataWithVenues.csv\")"
      ],
      "execution_count": null,
      "outputs": []
    },
    {
      "cell_type": "code",
      "metadata": {
        "id": "WHSa2GiVVZLY",
        "colab": {
          "base_uri": "https://localhost:8080/",
          "height": 241
        },
        "outputId": "adeed5b2-a555-4b68-ad8a-76aa82c8db75"
      },
      "source": [
        "subData.head()"
      ],
      "execution_count": null,
      "outputs": [
        {
          "output_type": "execute_result",
          "data": {
            "text/html": [
              "<div>\n",
              "<style scoped>\n",
              "    .dataframe tbody tr th:only-of-type {\n",
              "        vertical-align: middle;\n",
              "    }\n",
              "\n",
              "    .dataframe tbody tr th {\n",
              "        vertical-align: top;\n",
              "    }\n",
              "\n",
              "    .dataframe thead th {\n",
              "        text-align: right;\n",
              "    }\n",
              "</style>\n",
              "<table border=\"1\" class=\"dataframe\">\n",
              "  <thead>\n",
              "    <tr style=\"text-align: right;\">\n",
              "      <th></th>\n",
              "      <th>monitoringSiteIdentifierScheme_x</th>\n",
              "      <th>parameterWaterBodyCategory</th>\n",
              "      <th>observedPropertyDeterminandCode</th>\n",
              "      <th>procedureAnalysedFraction</th>\n",
              "      <th>procedureAnalysedMedia</th>\n",
              "      <th>resultUom</th>\n",
              "      <th>phenomenonTimeReferenceYear</th>\n",
              "      <th>parameterSamplingPeriod</th>\n",
              "      <th>resultMeanValue</th>\n",
              "      <th>waterBodyIdentifier</th>\n",
              "      <th>lon</th>\n",
              "      <th>lat</th>\n",
              "      <th>Country</th>\n",
              "      <th>PopulationDensity</th>\n",
              "      <th>TerraMarineProtected_2016_2018</th>\n",
              "      <th>TouristMean_1990_2020</th>\n",
              "      <th>VenueCount</th>\n",
              "    </tr>\n",
              "  </thead>\n",
              "  <tbody>\n",
              "    <tr>\n",
              "      <th>0</th>\n",
              "      <td>euMonitoringSiteCode</td>\n",
              "      <td>RW</td>\n",
              "      <td>CAS_14797-65-0</td>\n",
              "      <td>total</td>\n",
              "      <td>water</td>\n",
              "      <td>mg{NO2}/L</td>\n",
              "      <td>2009</td>\n",
              "      <td>2009-01--2009-12</td>\n",
              "      <td>0.063310</td>\n",
              "      <td>FRDR609</td>\n",
              "      <td>4.99635</td>\n",
              "      <td>46.98310</td>\n",
              "      <td>France</td>\n",
              "      <td>122.299437</td>\n",
              "      <td>30.831906</td>\n",
              "      <td>71176346.0</td>\n",
              "      <td>0.0</td>\n",
              "    </tr>\n",
              "    <tr>\n",
              "      <th>1</th>\n",
              "      <td>euMonitoringSiteCode</td>\n",
              "      <td>RW</td>\n",
              "      <td>CAS_14797-65-0</td>\n",
              "      <td>total</td>\n",
              "      <td>water</td>\n",
              "      <td>mg{NO2}/L</td>\n",
              "      <td>2009</td>\n",
              "      <td>2009-01--2009-12</td>\n",
              "      <td>0.046733</td>\n",
              "      <td>FRFR238</td>\n",
              "      <td>-0.23809</td>\n",
              "      <td>43.67623</td>\n",
              "      <td>France</td>\n",
              "      <td>122.299437</td>\n",
              "      <td>30.831906</td>\n",
              "      <td>71176346.0</td>\n",
              "      <td>0.0</td>\n",
              "    </tr>\n",
              "    <tr>\n",
              "      <th>2</th>\n",
              "      <td>euMonitoringSiteCode</td>\n",
              "      <td>RW</td>\n",
              "      <td>EEA_3164-07-6</td>\n",
              "      <td>total</td>\n",
              "      <td>water</td>\n",
              "      <td>{massRatio}</td>\n",
              "      <td>2009</td>\n",
              "      <td>2009-01--2009-12</td>\n",
              "      <td>132.859000</td>\n",
              "      <td>FRFR238</td>\n",
              "      <td>-0.23809</td>\n",
              "      <td>43.67623</td>\n",
              "      <td>France</td>\n",
              "      <td>122.299437</td>\n",
              "      <td>30.831906</td>\n",
              "      <td>71176346.0</td>\n",
              "      <td>0.0</td>\n",
              "    </tr>\n",
              "    <tr>\n",
              "      <th>3</th>\n",
              "      <td>euMonitoringSiteCode</td>\n",
              "      <td>RW</td>\n",
              "      <td>CAS_14797-55-8</td>\n",
              "      <td>total</td>\n",
              "      <td>water</td>\n",
              "      <td>mg{NO3}/L</td>\n",
              "      <td>2009</td>\n",
              "      <td>2009-01--2009-12</td>\n",
              "      <td>11.578376</td>\n",
              "      <td>FRFR327C</td>\n",
              "      <td>-0.15118</td>\n",
              "      <td>43.65393</td>\n",
              "      <td>France</td>\n",
              "      <td>122.299437</td>\n",
              "      <td>30.831906</td>\n",
              "      <td>71176346.0</td>\n",
              "      <td>2.0</td>\n",
              "    </tr>\n",
              "    <tr>\n",
              "      <th>4</th>\n",
              "      <td>eionetMonitoringSiteCode</td>\n",
              "      <td>RW</td>\n",
              "      <td>EEA_3151-01-7</td>\n",
              "      <td>total</td>\n",
              "      <td>water</td>\n",
              "      <td>mmol/L</td>\n",
              "      <td>2009</td>\n",
              "      <td>2009-01--2009-12</td>\n",
              "      <td>0.206800</td>\n",
              "      <td>ES014MSPFES-014-NR-038-000-02-02</td>\n",
              "      <td>-7.59115</td>\n",
              "      <td>43.61870</td>\n",
              "      <td>Spain</td>\n",
              "      <td>93.677197</td>\n",
              "      <td>15.047884</td>\n",
              "      <td>50941692.0</td>\n",
              "      <td>4.0</td>\n",
              "    </tr>\n",
              "  </tbody>\n",
              "</table>\n",
              "</div>"
            ],
            "text/plain": [
              "  monitoringSiteIdentifierScheme_x  ... VenueCount\n",
              "0             euMonitoringSiteCode  ...        0.0\n",
              "1             euMonitoringSiteCode  ...        0.0\n",
              "2             euMonitoringSiteCode  ...        0.0\n",
              "3             euMonitoringSiteCode  ...        2.0\n",
              "4         eionetMonitoringSiteCode  ...        4.0\n",
              "\n",
              "[5 rows x 17 columns]"
            ]
          },
          "metadata": {
            "tags": []
          },
          "execution_count": 5
        }
      ]
    },
    {
      "cell_type": "code",
      "metadata": {
        "id": "y78eZ8SPLaxQ"
      },
      "source": [
        "import osmnx as ox\r\n",
        "import networkx as nx\r\n",
        "import os\r\n",
        "import matplotlib.colors as colors"
      ],
      "execution_count": null,
      "outputs": []
    },
    {
      "cell_type": "code",
      "metadata": {
        "id": "S3ZIsrYlVVuD"
      },
      "source": [
        "def get_distance(data, feature, road):\r\n",
        "  if len(feature) == 0:\r\n",
        "    lat = data['lat']\r\n",
        "    lon = data['lon']\r\n",
        "  else:\r\n",
        "    lat = data.loc[feature,'lat']\r\n",
        "    lon = data.loc[feature,'lon']\r\n",
        "  dist = [ox.distance.get_nearest_edge(road, point=(x, y), return_dist=True) for x, y in zip(lat, lon)]\r\n",
        "  return [x[3]*111139 for x in dist]"
      ],
      "execution_count": null,
      "outputs": []
    },
    {
      "cell_type": "markdown",
      "metadata": {
        "id": "NpAZ3j_KVUOa"
      },
      "source": [
        "# Dummy"
      ]
    },
    {
      "cell_type": "code",
      "metadata": {
        "id": "IIfpcupyLmRR"
      },
      "source": [
        "@jit(nopython=True)\r\n",
        "def findNearestRoad(coords):\r\n",
        "  G = ox.graph_from_point(coords, dist=500, network_type='none',custom_filter='[\"highway\"]')\r\n",
        "  dist = ox.distance.get_nearest_edge(G, point=coords, return_dist=True)\r\n",
        "  return dist[3]*111139"
      ],
      "execution_count": null,
      "outputs": []
    },
    {
      "cell_type": "code",
      "metadata": {
        "id": "Mb77kD8ULulg"
      },
      "source": [
        "@jit(nopython=True)\r\n",
        "def getRoads(latList,lonList):\r\n",
        "  deneme = np.zeros_like(latList)\r\n",
        "  for i in range(latList.shape[0]):\r\n",
        "      lat,lon =latList[i], lonList[i]\r\n",
        "      deneme[i] = findNearestRoad((lat,lon))\r\n",
        "  return deneme"
      ],
      "execution_count": null,
      "outputs": []
    },
    {
      "cell_type": "code",
      "metadata": {
        "id": "wXIzJ1emsmoi"
      },
      "source": [
        "venues = pd.read_csv(\"/content/dataWithVenues.csv\")"
      ],
      "execution_count": null,
      "outputs": []
    },
    {
      "cell_type": "code",
      "metadata": {
        "colab": {
          "base_uri": "https://localhost:8080/",
          "height": 241
        },
        "id": "zHRSwATG9Mxh",
        "outputId": "4ef8c315-14b4-413d-ef56-e9a1a07f672a"
      },
      "source": [
        "venues.head()"
      ],
      "execution_count": null,
      "outputs": [
        {
          "output_type": "execute_result",
          "data": {
            "text/html": [
              "<div>\n",
              "<style scoped>\n",
              "    .dataframe tbody tr th:only-of-type {\n",
              "        vertical-align: middle;\n",
              "    }\n",
              "\n",
              "    .dataframe tbody tr th {\n",
              "        vertical-align: top;\n",
              "    }\n",
              "\n",
              "    .dataframe thead th {\n",
              "        text-align: right;\n",
              "    }\n",
              "</style>\n",
              "<table border=\"1\" class=\"dataframe\">\n",
              "  <thead>\n",
              "    <tr style=\"text-align: right;\">\n",
              "      <th></th>\n",
              "      <th>monitoringSiteIdentifierScheme_x</th>\n",
              "      <th>parameterWaterBodyCategory</th>\n",
              "      <th>observedPropertyDeterminandCode</th>\n",
              "      <th>procedureAnalysedFraction</th>\n",
              "      <th>procedureAnalysedMedia</th>\n",
              "      <th>resultUom</th>\n",
              "      <th>phenomenonTimeReferenceYear</th>\n",
              "      <th>parameterSamplingPeriod</th>\n",
              "      <th>resultMeanValue</th>\n",
              "      <th>waterBodyIdentifier</th>\n",
              "      <th>lon</th>\n",
              "      <th>lat</th>\n",
              "      <th>Country</th>\n",
              "      <th>PopulationDensity</th>\n",
              "      <th>TerraMarineProtected_2016_2018</th>\n",
              "      <th>TouristMean_1990_2020</th>\n",
              "      <th>VenueCount</th>\n",
              "    </tr>\n",
              "  </thead>\n",
              "  <tbody>\n",
              "    <tr>\n",
              "      <th>0</th>\n",
              "      <td>euMonitoringSiteCode</td>\n",
              "      <td>RW</td>\n",
              "      <td>CAS_14797-65-0</td>\n",
              "      <td>total</td>\n",
              "      <td>water</td>\n",
              "      <td>mg{NO2}/L</td>\n",
              "      <td>2009</td>\n",
              "      <td>2009-01--2009-12</td>\n",
              "      <td>0.063310</td>\n",
              "      <td>FRDR609</td>\n",
              "      <td>4.99635</td>\n",
              "      <td>46.98310</td>\n",
              "      <td>France</td>\n",
              "      <td>122.299437</td>\n",
              "      <td>30.831906</td>\n",
              "      <td>71176346.0</td>\n",
              "      <td>0.0</td>\n",
              "    </tr>\n",
              "    <tr>\n",
              "      <th>1</th>\n",
              "      <td>euMonitoringSiteCode</td>\n",
              "      <td>RW</td>\n",
              "      <td>CAS_14797-65-0</td>\n",
              "      <td>total</td>\n",
              "      <td>water</td>\n",
              "      <td>mg{NO2}/L</td>\n",
              "      <td>2009</td>\n",
              "      <td>2009-01--2009-12</td>\n",
              "      <td>0.046733</td>\n",
              "      <td>FRFR238</td>\n",
              "      <td>-0.23809</td>\n",
              "      <td>43.67623</td>\n",
              "      <td>France</td>\n",
              "      <td>122.299437</td>\n",
              "      <td>30.831906</td>\n",
              "      <td>71176346.0</td>\n",
              "      <td>0.0</td>\n",
              "    </tr>\n",
              "    <tr>\n",
              "      <th>2</th>\n",
              "      <td>euMonitoringSiteCode</td>\n",
              "      <td>RW</td>\n",
              "      <td>EEA_3164-07-6</td>\n",
              "      <td>total</td>\n",
              "      <td>water</td>\n",
              "      <td>{massRatio}</td>\n",
              "      <td>2009</td>\n",
              "      <td>2009-01--2009-12</td>\n",
              "      <td>132.859000</td>\n",
              "      <td>FRFR238</td>\n",
              "      <td>-0.23809</td>\n",
              "      <td>43.67623</td>\n",
              "      <td>France</td>\n",
              "      <td>122.299437</td>\n",
              "      <td>30.831906</td>\n",
              "      <td>71176346.0</td>\n",
              "      <td>0.0</td>\n",
              "    </tr>\n",
              "    <tr>\n",
              "      <th>3</th>\n",
              "      <td>euMonitoringSiteCode</td>\n",
              "      <td>RW</td>\n",
              "      <td>CAS_14797-55-8</td>\n",
              "      <td>total</td>\n",
              "      <td>water</td>\n",
              "      <td>mg{NO3}/L</td>\n",
              "      <td>2009</td>\n",
              "      <td>2009-01--2009-12</td>\n",
              "      <td>11.578376</td>\n",
              "      <td>FRFR327C</td>\n",
              "      <td>-0.15118</td>\n",
              "      <td>43.65393</td>\n",
              "      <td>France</td>\n",
              "      <td>122.299437</td>\n",
              "      <td>30.831906</td>\n",
              "      <td>71176346.0</td>\n",
              "      <td>2.0</td>\n",
              "    </tr>\n",
              "    <tr>\n",
              "      <th>4</th>\n",
              "      <td>eionetMonitoringSiteCode</td>\n",
              "      <td>RW</td>\n",
              "      <td>EEA_3151-01-7</td>\n",
              "      <td>total</td>\n",
              "      <td>water</td>\n",
              "      <td>mmol/L</td>\n",
              "      <td>2009</td>\n",
              "      <td>2009-01--2009-12</td>\n",
              "      <td>0.206800</td>\n",
              "      <td>ES014MSPFES-014-NR-038-000-02-02</td>\n",
              "      <td>-7.59115</td>\n",
              "      <td>43.61870</td>\n",
              "      <td>Spain</td>\n",
              "      <td>93.677197</td>\n",
              "      <td>15.047884</td>\n",
              "      <td>50941692.0</td>\n",
              "      <td>4.0</td>\n",
              "    </tr>\n",
              "  </tbody>\n",
              "</table>\n",
              "</div>"
            ],
            "text/plain": [
              "  monitoringSiteIdentifierScheme_x  ... VenueCount\n",
              "0             euMonitoringSiteCode  ...        0.0\n",
              "1             euMonitoringSiteCode  ...        0.0\n",
              "2             euMonitoringSiteCode  ...        0.0\n",
              "3             euMonitoringSiteCode  ...        2.0\n",
              "4         eionetMonitoringSiteCode  ...        4.0\n",
              "\n",
              "[5 rows x 17 columns]"
            ]
          },
          "metadata": {
            "tags": []
          },
          "execution_count": 7
        }
      ]
    },
    {
      "cell_type": "code",
      "metadata": {
        "id": "rS7fu5DR5MaF"
      },
      "source": [
        "wasteData.rename(columns={\"country_name\":\"Country\"},inplace=True)\r\n",
        "venues = pd.merge(venues,migrationData,how=\"left\",on = [\"Country\"])\r\n",
        "venues = pd.merge(venues,climateData,how=\"left\",on = [\"Country\"])\r\n",
        "venues = pd.merge(venues,literacyData,how=\"left\",on = [\"Country\"])\r\n",
        "venues = pd.merge(venues,renewableData,how=\"left\",on = [\"Country\"])\r\n",
        "venues = pd.merge(venues,wasteData,how=\"left\",on = [\"Country\"])"
      ],
      "execution_count": null,
      "outputs": []
    },
    {
      "cell_type": "code",
      "metadata": {
        "colab": {
          "base_uri": "https://localhost:8080/",
          "height": 241
        },
        "id": "6MaHDIFp9eNW",
        "outputId": "f0871e0b-e831-460a-b198-ecfd6a2df0b8"
      },
      "source": [
        "venues.head()"
      ],
      "execution_count": null,
      "outputs": [
        {
          "output_type": "execute_result",
          "data": {
            "text/html": [
              "<div>\n",
              "<style scoped>\n",
              "    .dataframe tbody tr th:only-of-type {\n",
              "        vertical-align: middle;\n",
              "    }\n",
              "\n",
              "    .dataframe tbody tr th {\n",
              "        vertical-align: top;\n",
              "    }\n",
              "\n",
              "    .dataframe thead th {\n",
              "        text-align: right;\n",
              "    }\n",
              "</style>\n",
              "<table border=\"1\" class=\"dataframe\">\n",
              "  <thead>\n",
              "    <tr style=\"text-align: right;\">\n",
              "      <th></th>\n",
              "      <th>monitoringSiteIdentifierScheme_x</th>\n",
              "      <th>parameterWaterBodyCategory</th>\n",
              "      <th>observedPropertyDeterminandCode</th>\n",
              "      <th>procedureAnalysedFraction</th>\n",
              "      <th>procedureAnalysedMedia</th>\n",
              "      <th>resultUom</th>\n",
              "      <th>phenomenonTimeReferenceYear</th>\n",
              "      <th>parameterSamplingPeriod</th>\n",
              "      <th>resultMeanValue</th>\n",
              "      <th>waterBodyIdentifier</th>\n",
              "      <th>lon</th>\n",
              "      <th>lat</th>\n",
              "      <th>Country</th>\n",
              "      <th>PopulationDensity</th>\n",
              "      <th>TerraMarineProtected_2016_2018</th>\n",
              "      <th>TouristMean_1990_2020</th>\n",
              "      <th>VenueCount</th>\n",
              "      <th>netMigration_2011_2018</th>\n",
              "      <th>droughts_floods_temperature</th>\n",
              "      <th>literacyRate_2010_2018</th>\n",
              "      <th>combustibleRenewables_2009_2014</th>\n",
              "      <th>gdp</th>\n",
              "      <th>composition_food_organic_waste_percent</th>\n",
              "      <th>composition_glass_percent</th>\n",
              "      <th>composition_metal_percent</th>\n",
              "      <th>composition_other_percent</th>\n",
              "      <th>composition_paper_cardboard_percent</th>\n",
              "      <th>composition_plastic_percent</th>\n",
              "      <th>composition_rubber_leather_percent</th>\n",
              "      <th>composition_wood_percent</th>\n",
              "      <th>composition_yard_garden_green_waste_percent</th>\n",
              "      <th>waste_treatment_recycling_percent</th>\n",
              "    </tr>\n",
              "  </thead>\n",
              "  <tbody>\n",
              "    <tr>\n",
              "      <th>0</th>\n",
              "      <td>euMonitoringSiteCode</td>\n",
              "      <td>RW</td>\n",
              "      <td>CAS_14797-65-0</td>\n",
              "      <td>total</td>\n",
              "      <td>water</td>\n",
              "      <td>mg{NO2}/L</td>\n",
              "      <td>2009</td>\n",
              "      <td>2009-01--2009-12</td>\n",
              "      <td>0.063310</td>\n",
              "      <td>FRDR609</td>\n",
              "      <td>4.99635</td>\n",
              "      <td>46.98310</td>\n",
              "      <td>France</td>\n",
              "      <td>122.299437</td>\n",
              "      <td>30.831906</td>\n",
              "      <td>71176346.0</td>\n",
              "      <td>0.0</td>\n",
              "      <td>75808.375</td>\n",
              "      <td>0.005718</td>\n",
              "      <td>0.000000</td>\n",
              "      <td>4.457840</td>\n",
              "      <td>2.806036e+12</td>\n",
              "      <td>32.0</td>\n",
              "      <td>10.0</td>\n",
              "      <td>3.0</td>\n",
              "      <td>26.0</td>\n",
              "      <td>20.0</td>\n",
              "      <td>9.0</td>\n",
              "      <td>0.0</td>\n",
              "      <td>0.0</td>\n",
              "      <td>0.0</td>\n",
              "      <td>22.26</td>\n",
              "    </tr>\n",
              "    <tr>\n",
              "      <th>1</th>\n",
              "      <td>euMonitoringSiteCode</td>\n",
              "      <td>RW</td>\n",
              "      <td>CAS_14797-65-0</td>\n",
              "      <td>total</td>\n",
              "      <td>water</td>\n",
              "      <td>mg{NO2}/L</td>\n",
              "      <td>2009</td>\n",
              "      <td>2009-01--2009-12</td>\n",
              "      <td>0.046733</td>\n",
              "      <td>FRFR238</td>\n",
              "      <td>-0.23809</td>\n",
              "      <td>43.67623</td>\n",
              "      <td>France</td>\n",
              "      <td>122.299437</td>\n",
              "      <td>30.831906</td>\n",
              "      <td>71176346.0</td>\n",
              "      <td>0.0</td>\n",
              "      <td>75808.375</td>\n",
              "      <td>0.005718</td>\n",
              "      <td>0.000000</td>\n",
              "      <td>4.457840</td>\n",
              "      <td>2.806036e+12</td>\n",
              "      <td>32.0</td>\n",
              "      <td>10.0</td>\n",
              "      <td>3.0</td>\n",
              "      <td>26.0</td>\n",
              "      <td>20.0</td>\n",
              "      <td>9.0</td>\n",
              "      <td>0.0</td>\n",
              "      <td>0.0</td>\n",
              "      <td>0.0</td>\n",
              "      <td>22.26</td>\n",
              "    </tr>\n",
              "    <tr>\n",
              "      <th>2</th>\n",
              "      <td>euMonitoringSiteCode</td>\n",
              "      <td>RW</td>\n",
              "      <td>EEA_3164-07-6</td>\n",
              "      <td>total</td>\n",
              "      <td>water</td>\n",
              "      <td>{massRatio}</td>\n",
              "      <td>2009</td>\n",
              "      <td>2009-01--2009-12</td>\n",
              "      <td>132.859000</td>\n",
              "      <td>FRFR238</td>\n",
              "      <td>-0.23809</td>\n",
              "      <td>43.67623</td>\n",
              "      <td>France</td>\n",
              "      <td>122.299437</td>\n",
              "      <td>30.831906</td>\n",
              "      <td>71176346.0</td>\n",
              "      <td>0.0</td>\n",
              "      <td>75808.375</td>\n",
              "      <td>0.005718</td>\n",
              "      <td>0.000000</td>\n",
              "      <td>4.457840</td>\n",
              "      <td>2.806036e+12</td>\n",
              "      <td>32.0</td>\n",
              "      <td>10.0</td>\n",
              "      <td>3.0</td>\n",
              "      <td>26.0</td>\n",
              "      <td>20.0</td>\n",
              "      <td>9.0</td>\n",
              "      <td>0.0</td>\n",
              "      <td>0.0</td>\n",
              "      <td>0.0</td>\n",
              "      <td>22.26</td>\n",
              "    </tr>\n",
              "    <tr>\n",
              "      <th>3</th>\n",
              "      <td>euMonitoringSiteCode</td>\n",
              "      <td>RW</td>\n",
              "      <td>CAS_14797-55-8</td>\n",
              "      <td>total</td>\n",
              "      <td>water</td>\n",
              "      <td>mg{NO3}/L</td>\n",
              "      <td>2009</td>\n",
              "      <td>2009-01--2009-12</td>\n",
              "      <td>11.578376</td>\n",
              "      <td>FRFR327C</td>\n",
              "      <td>-0.15118</td>\n",
              "      <td>43.65393</td>\n",
              "      <td>France</td>\n",
              "      <td>122.299437</td>\n",
              "      <td>30.831906</td>\n",
              "      <td>71176346.0</td>\n",
              "      <td>2.0</td>\n",
              "      <td>75808.375</td>\n",
              "      <td>0.005718</td>\n",
              "      <td>0.000000</td>\n",
              "      <td>4.457840</td>\n",
              "      <td>2.806036e+12</td>\n",
              "      <td>32.0</td>\n",
              "      <td>10.0</td>\n",
              "      <td>3.0</td>\n",
              "      <td>26.0</td>\n",
              "      <td>20.0</td>\n",
              "      <td>9.0</td>\n",
              "      <td>0.0</td>\n",
              "      <td>0.0</td>\n",
              "      <td>0.0</td>\n",
              "      <td>22.26</td>\n",
              "    </tr>\n",
              "    <tr>\n",
              "      <th>4</th>\n",
              "      <td>eionetMonitoringSiteCode</td>\n",
              "      <td>RW</td>\n",
              "      <td>EEA_3151-01-7</td>\n",
              "      <td>total</td>\n",
              "      <td>water</td>\n",
              "      <td>mmol/L</td>\n",
              "      <td>2009</td>\n",
              "      <td>2009-01--2009-12</td>\n",
              "      <td>0.206800</td>\n",
              "      <td>ES014MSPFES-014-NR-038-000-02-02</td>\n",
              "      <td>-7.59115</td>\n",
              "      <td>43.61870</td>\n",
              "      <td>Spain</td>\n",
              "      <td>93.677197</td>\n",
              "      <td>15.047884</td>\n",
              "      <td>50941692.0</td>\n",
              "      <td>4.0</td>\n",
              "      <td>-40055.250</td>\n",
              "      <td>0.729194</td>\n",
              "      <td>87.158924</td>\n",
              "      <td>4.363288</td>\n",
              "      <td>1.464509e+12</td>\n",
              "      <td>49.0</td>\n",
              "      <td>8.0</td>\n",
              "      <td>3.0</td>\n",
              "      <td>14.0</td>\n",
              "      <td>15.0</td>\n",
              "      <td>9.0</td>\n",
              "      <td>0.0</td>\n",
              "      <td>2.0</td>\n",
              "      <td>0.0</td>\n",
              "      <td>16.84</td>\n",
              "    </tr>\n",
              "  </tbody>\n",
              "</table>\n",
              "</div>"
            ],
            "text/plain": [
              "  monitoringSiteIdentifierScheme_x  ... waste_treatment_recycling_percent\n",
              "0             euMonitoringSiteCode  ...                             22.26\n",
              "1             euMonitoringSiteCode  ...                             22.26\n",
              "2             euMonitoringSiteCode  ...                             22.26\n",
              "3             euMonitoringSiteCode  ...                             22.26\n",
              "4         eionetMonitoringSiteCode  ...                             16.84\n",
              "\n",
              "[5 rows x 32 columns]"
            ]
          },
          "metadata": {
            "tags": []
          },
          "execution_count": 14
        }
      ]
    },
    {
      "cell_type": "code",
      "metadata": {
        "id": "3tJ_Z59L9sgJ"
      },
      "source": [
        "venues.drop([\"monitoringSiteIdentifierScheme_x\",\"lon\",\"lat\"],axis = 1,inplace=True)\r\n",
        "venues.to_csv(\"waterPollution.csv\",index=False)"
      ],
      "execution_count": null,
      "outputs": []
    },
    {
      "cell_type": "code",
      "metadata": {
        "id": "0oER7gUI-FI-"
      },
      "source": [
        ""
      ],
      "execution_count": null,
      "outputs": []
    }
  ]
}