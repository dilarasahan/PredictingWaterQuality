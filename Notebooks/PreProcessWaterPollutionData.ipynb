{
  "nbformat": 4,
  "nbformat_minor": 0,
  "metadata": {
    "colab": {
      "name": "PreProcessWaterPollutionData.ipynb",
      "provenance": [],
      "collapsed_sections": []
    },
    "kernelspec": {
      "name": "python3",
      "display_name": "Python 3"
    }
  },
  "cells": [
    {
      "cell_type": "code",
      "metadata": {
        "colab": {
          "base_uri": "https://localhost:8080/"
        },
        "id": "PPPOWZFWgyYp",
        "outputId": "db88f5c7-427e-440b-cfe7-cdb24ab827ef"
      },
      "source": [
        "!wget https://cmshare.eea.europa.eu/s/B9dGkQGHtJoqPqJ/download"
      ],
      "execution_count": null,
      "outputs": [
        {
          "output_type": "stream",
          "text": [
            "--2020-11-22 13:43:03--  https://cmshare.eea.europa.eu/s/B9dGkQGHtJoqPqJ/download\n",
            "Resolving cmshare.eea.europa.eu (cmshare.eea.europa.eu)... 87.54.7.179\n",
            "Connecting to cmshare.eea.europa.eu (cmshare.eea.europa.eu)|87.54.7.179|:443... connected.\n",
            "HTTP request sent, awaiting response... 200 OK\n",
            "Length: 503191968 (480M) [application/zip]\n",
            "Saving to: ‘download’\n",
            "\n",
            "download            100%[===================>] 479.88M  22.8MB/s    in 22s     \n",
            "\n",
            "2020-11-22 13:43:26 (21.4 MB/s) - ‘download’ saved [503191968/503191968]\n",
            "\n"
          ],
          "name": "stdout"
        }
      ]
    },
    {
      "cell_type": "code",
      "metadata": {
        "id": "NtG3saXAh6_d",
        "colab": {
          "base_uri": "https://localhost:8080/"
        },
        "outputId": "607eb899-cc62-4a5c-e43c-456f38211882"
      },
      "source": [
        "!unzip download"
      ],
      "execution_count": null,
      "outputs": [
        {
          "output_type": "stream",
          "text": [
            "Archive:  download\n",
            "  inflating: Waterbase_v2018_1_T_WISE4_AggregatedData.csv  \n",
            "  inflating: Waterbase_v2018_1_T_WISE4_AggregatedDataByWaterBody.csv  \n",
            "  inflating: Waterbase_v2018_1_T_WISE4_BiologyEQRClassificationProcedure.csv  \n",
            "  inflating: Waterbase_v2018_1_T_WISE4_BiologyEQRData.csv  \n",
            "  inflating: Waterbase_v2018_1_T_WISE4_DisaggregatedData.csv  \n",
            "  inflating: Waterbase_v2018_1_WISE4_MonitoringSite_DerivedData.csv  \n"
          ],
          "name": "stdout"
        }
      ]
    },
    {
      "cell_type": "code",
      "metadata": {
        "id": "IUGYKfuCjS-3"
      },
      "source": [
        "import pandas as pd"
      ],
      "execution_count": null,
      "outputs": []
    },
    {
      "cell_type": "code",
      "metadata": {
        "colab": {
          "base_uri": "https://localhost:8080/"
        },
        "id": "gpsDklUukGwQ",
        "outputId": "93759462-9d22-4c9c-9e22-16de6ff17f43"
      },
      "source": [
        "waterData = pd.read_csv(\"/content/Waterbase_v2018_1_T_WISE4_AggregatedData.csv\")"
      ],
      "execution_count": null,
      "outputs": [
        {
          "output_type": "stream",
          "text": [
            "/usr/local/lib/python3.6/dist-packages/IPython/core/interactiveshell.py:2718: DtypeWarning: Columns (23) have mixed types.Specify dtype option on import or set low_memory=False.\n",
            "  interactivity=interactivity, compiler=compiler, result=result)\n"
          ],
          "name": "stderr"
        }
      ]
    },
    {
      "cell_type": "code",
      "metadata": {
        "id": "FSM8Klvhkf7r"
      },
      "source": [
        "piece = int(waterData.shape[0]/30)"
      ],
      "execution_count": null,
      "outputs": []
    },
    {
      "cell_type": "code",
      "metadata": {
        "id": "MoN_UgPskn-n"
      },
      "source": [
        "water1 = waterData[:piece]\n",
        "water2 = waterData[piece:piece*2]\n",
        "water3 = waterData[piece*2:piece*3]\n",
        "water4 = waterData[piece*3:piece*4]\n",
        "water5 = waterData[piece*4:piece*5]\n",
        "water6 = waterData[piece*5:piece*6]\n",
        "water7 = waterData[piece*6:piece*7]\n",
        "water8 = waterData[piece*7:piece*8]\n",
        "water9 = waterData[piece*8:piece*9]\n",
        "water10 = waterData[piece*9:piece*10]\n",
        "water11 = waterData[piece*10:piece*11]\n",
        "water12 = waterData[piece*11:piece*12]\n",
        "water13 = waterData[piece*12:piece*13]\n",
        "water14 = waterData[piece*13:piece*14]\n",
        "water15 = waterData[piece*14:piece*15]\n",
        "water16 = waterData[piece*15:piece*16]\n",
        "water17 = waterData[piece*16:piece*17]\n",
        "water18 = waterData[piece*17:piece*18]\n",
        "water19 = waterData[piece*18:piece*19]\n",
        "water20 = waterData[piece*19:piece*20]\n",
        "water21 = waterData[piece*20:piece*21]\n",
        "water22 = waterData[piece*21:piece*22]\n",
        "water23 = waterData[piece*22:piece*23]\n",
        "water24 = waterData[piece*23:piece*24]\n",
        "water25 = waterData[piece*24:piece*25]\n",
        "water26 = waterData[piece*25:piece*26]\n",
        "water27 = waterData[piece*26:piece*27]\n",
        "water28 = waterData[piece*27:piece*28]\n",
        "water29 = waterData[piece*28:]"
      ],
      "execution_count": null,
      "outputs": []
    },
    {
      "cell_type": "code",
      "metadata": {
        "id": "yRUt18DlQAtP"
      },
      "source": [
        "datas = (water1,water2,water3,water4,water5,water6,water7,water8,water9,water10,water11,water12,water13,water14,water15,water16,water17,water18,water19,water20,water21,water22,water23,water24,\n",
        "         water25,water26,water27,water28,water29)\n"
      ],
      "execution_count": null,
      "outputs": []
    },
    {
      "cell_type": "code",
      "metadata": {
        "colab": {
          "base_uri": "https://localhost:8080/"
        },
        "id": "kJfXOx40a_fo",
        "outputId": "449bb5ea-92c3-4493-d026-b73f6c3dab5d"
      },
      "source": [
        "pip install progress"
      ],
      "execution_count": null,
      "outputs": [
        {
          "output_type": "stream",
          "text": [
            "Collecting progress\n",
            "  Downloading https://files.pythonhosted.org/packages/38/ef/2e887b3d2b248916fc2121889ce68af8a16aaddbe82f9ae6533c24ff0d2b/progress-1.5.tar.gz\n",
            "Building wheels for collected packages: progress\n",
            "  Building wheel for progress (setup.py) ... \u001b[?25l\u001b[?25hdone\n",
            "  Created wheel for progress: filename=progress-1.5-cp36-none-any.whl size=8074 sha256=f681b1be2f34daf2f46f45918e780efc0e1b3b707735748e831850ce7ca7d19e\n",
            "  Stored in directory: /root/.cache/pip/wheels/6c/c8/80/32a294e3041f006c661838c05a411c7b7ffc60ff939d14e116\n",
            "Successfully built progress\n",
            "Installing collected packages: progress\n",
            "Successfully installed progress-1.5\n"
          ],
          "name": "stdout"
        }
      ]
    },
    {
      "cell_type": "code",
      "metadata": {
        "id": "3w7x8tiDTrEe"
      },
      "source": [
        "from progress.bar import Bar\n",
        "def dropNAs(subData):\n",
        "  global NAs\n",
        "  with Bar('Processing', max=len(NAs)) as bar:\n",
        "    for i in NAs:\n",
        "      subData.drop(subData[subData[\"monitoringSiteIdentifier\"] == i].index,axis=0,inplace=True)\n",
        "      bar.next()"
      ],
      "execution_count": null,
      "outputs": []
    },
    {
      "cell_type": "code",
      "metadata": {
        "colab": {
          "base_uri": "https://localhost:8080/"
        },
        "id": "UKbcNRJBZk5_",
        "outputId": "e75478eb-779b-42b3-a3c0-4cd49e5b07d8"
      },
      "source": [
        "## Water1\n",
        "dropNAs(water1)\n",
        "## Water2\n",
        "dropNAs(water2)\n",
        "## Water3\n",
        "dropNAs(water3)\n",
        "## Water4\n",
        "dropNAs(water4)\n",
        "## Water5\n",
        "dropNAs(water5)\n",
        "## Water6\n",
        "dropNAs(water6)\n",
        "## Water7\n",
        "dropNAs(water7)\n",
        "## Water8\n",
        "dropNAs(water8)\n",
        "## Water9\n",
        "dropNAs(water9)\n",
        "## Water10\n",
        "dropNAs(water10)\n",
        "## Water11\n",
        "dropNAs(water11)\n",
        "## Water12\n",
        "dropNAs(water12)\n",
        "## Water13\n",
        "dropNAs(water13)\n",
        "## Water14\n",
        "dropNAs(water14)\n",
        "## Water15\n",
        "dropNAs(water15)\n",
        "## Water16\n",
        "dropNAs(water16)\n",
        "## Water17\n",
        "dropNAs(water17)\n",
        "## Water18\n",
        "dropNAs(water18)\n",
        "## Water19\n",
        "dropNAs(water19)\n",
        "## Water20\n",
        "dropNAs(water20)\n",
        "## Water21\n",
        "dropNAs(water21)\n",
        "## Water22\n",
        "dropNAs(water22)\n",
        "## Water23\n",
        "dropNAs(water23)\n",
        "## Water24\n",
        "dropNAs(water24)\n",
        "## Water25\n",
        "dropNAs(water25)\n",
        "## Water26\n",
        "dropNAs(water26)\n",
        "## Water27\n",
        "dropNAs(water27)\n",
        "## Water28\n",
        "dropNAs(water28)\n",
        "## Water29\n",
        "dropNAs(water29)"
      ],
      "execution_count": null,
      "outputs": [
        {
          "output_type": "stream",
          "text": [
            "/usr/local/lib/python3.6/dist-packages/pandas/core/frame.py:4174: SettingWithCopyWarning: \n",
            "A value is trying to be set on a copy of a slice from a DataFrame\n",
            "\n",
            "See the caveats in the documentation: https://pandas.pydata.org/pandas-docs/stable/user_guide/indexing.html#returning-a-view-versus-a-copy\n",
            "  errors=errors,\n"
          ],
          "name": "stderr"
        }
      ]
    },
    {
      "cell_type": "code",
      "metadata": {
        "id": "uLeWbWjOcdey"
      },
      "source": [
        "for index,i in enumerate(datas):\n",
        "  i.to_csv(f\"newData/water{index}.csv\",index=False)\n"
      ],
      "execution_count": null,
      "outputs": []
    },
    {
      "cell_type": "code",
      "metadata": {
        "colab": {
          "base_uri": "https://localhost:8080/"
        },
        "id": "g5NN2iVmstLQ",
        "outputId": "58d432d1-6341-4ed9-8b68-16b87e713569"
      },
      "source": [
        "water1.columns"
      ],
      "execution_count": null,
      "outputs": [
        {
          "output_type": "execute_result",
          "data": {
            "text/plain": [
              "Index(['monitoringSiteIdentifier', 'monitoringSiteIdentifierScheme',\n",
              "       'parameterWaterBodyCategory', 'observedPropertyDeterminandCode',\n",
              "       'procedureAnalysedFraction', 'procedureAnalysedMedia', 'resultUom',\n",
              "       'phenomenonTimeReferenceYear', 'parameterSamplingPeriod',\n",
              "       'procedureLOQValue', 'resultNumberOfSamples',\n",
              "       'resultQualityNumberOfSamplesBelowLOQ', 'resultQualityMinimumBelowLOQ',\n",
              "       'resultMinimumValue', 'resultQualityMeanBelowLOQ', 'resultMeanValue',\n",
              "       'resultQualityMaximumBelowLOQ', 'resultMaximumValue',\n",
              "       'resultQualityMedianBelowLOQ', 'resultMedianValue',\n",
              "       'resultStandardDeviationValue', 'procedureAnalyticalMethod',\n",
              "       'parameterSampleDepth', 'resultObservationStatus', 'Remarks',\n",
              "       'metadata_versionId', 'metadata_beginLifeSpanVersion',\n",
              "       'metadata_statusCode', 'metadata_observationStatus',\n",
              "       'metadata_statements', 'UID'],\n",
              "      dtype='object')"
            ]
          },
          "metadata": {
            "tags": []
          },
          "execution_count": 42
        }
      ]
    },
    {
      "cell_type": "code",
      "metadata": {
        "colab": {
          "base_uri": "https://localhost:8080/"
        },
        "id": "C9WF6bA6s3hn",
        "outputId": "2e42ccbf-d22e-4378-d0c7-59644ba51c33"
      },
      "source": [
        "locationData.columns"
      ],
      "execution_count": null,
      "outputs": [
        {
          "output_type": "execute_result",
          "data": {
            "text/plain": [
              "Index(['monitoringSiteIdentifier', 'monitoringSiteIdentifierScheme',\n",
              "       'waterBodyIdentifier', 'waterBodyIdentifierScheme',\n",
              "       'confidentialityStatus', 'lon', 'lat'],\n",
              "      dtype='object')"
            ]
          },
          "metadata": {
            "tags": []
          },
          "execution_count": 43
        }
      ]
    },
    {
      "cell_type": "code",
      "metadata": {
        "id": "ilh74YzfmO3j"
      },
      "source": [
        "def addLonLan(data):\n",
        "  global locationData\n",
        "  data[\"lon\"] = 0\n",
        "  data[\"lat\"] = 0\n",
        "  for i in data.monitoringSiteIdentifier.unique():\n",
        "    data[\"lon\"][data[\"monitoringSiteIdentifier\"] == i] = locationData[\"lon\"][locationData[\"monitoringSiteIdentifier\"] == i]\n",
        "    data[\"lat\"][data[\"monitoringSiteIdentifier\"] == i] = locationData[\"lat\"][locationData[\"monitoringSiteIdentifier\"] == i]"
      ],
      "execution_count": null,
      "outputs": []
    },
    {
      "cell_type": "code",
      "metadata": {
        "colab": {
          "base_uri": "https://localhost:8080/"
        },
        "id": "d2x67yVne7Tm",
        "outputId": "9bbdf74b-f151-42da-b6bf-3fd7fb1e5802"
      },
      "source": [
        "sumA = 0\n",
        "for i in datas:\n",
        "  sumA += i.shape[0]\n",
        "sumA"
      ],
      "execution_count": null,
      "outputs": [
        {
          "output_type": "execute_result",
          "data": {
            "text/plain": [
              "2966473"
            ]
          },
          "metadata": {
            "tags": []
          },
          "execution_count": 41
        }
      ]
    },
    {
      "cell_type": "code",
      "metadata": {
        "colab": {
          "base_uri": "https://localhost:8080/",
          "height": 232
        },
        "id": "hl2tHjepwS_F",
        "outputId": "55639e0a-3d5a-4bec-86fb-5ae7e57d3b79"
      },
      "source": [
        "water1.head()"
      ],
      "execution_count": null,
      "outputs": [
        {
          "output_type": "execute_result",
          "data": {
            "text/html": [
              "<div>\n",
              "<style scoped>\n",
              "    .dataframe tbody tr th:only-of-type {\n",
              "        vertical-align: middle;\n",
              "    }\n",
              "\n",
              "    .dataframe tbody tr th {\n",
              "        vertical-align: top;\n",
              "    }\n",
              "\n",
              "    .dataframe thead th {\n",
              "        text-align: right;\n",
              "    }\n",
              "</style>\n",
              "<table border=\"1\" class=\"dataframe\">\n",
              "  <thead>\n",
              "    <tr style=\"text-align: right;\">\n",
              "      <th></th>\n",
              "      <th>monitoringSiteIdentifier</th>\n",
              "      <th>monitoringSiteIdentifierScheme</th>\n",
              "      <th>parameterWaterBodyCategory</th>\n",
              "      <th>observedPropertyDeterminandCode</th>\n",
              "      <th>procedureAnalysedFraction</th>\n",
              "      <th>procedureAnalysedMedia</th>\n",
              "      <th>resultUom</th>\n",
              "      <th>phenomenonTimeReferenceYear</th>\n",
              "      <th>parameterSamplingPeriod</th>\n",
              "      <th>procedureLOQValue</th>\n",
              "      <th>resultNumberOfSamples</th>\n",
              "      <th>resultQualityNumberOfSamplesBelowLOQ</th>\n",
              "      <th>resultQualityMinimumBelowLOQ</th>\n",
              "      <th>resultMinimumValue</th>\n",
              "      <th>resultQualityMeanBelowLOQ</th>\n",
              "      <th>resultMeanValue</th>\n",
              "      <th>resultQualityMaximumBelowLOQ</th>\n",
              "      <th>resultMaximumValue</th>\n",
              "      <th>resultQualityMedianBelowLOQ</th>\n",
              "      <th>resultMedianValue</th>\n",
              "      <th>resultStandardDeviationValue</th>\n",
              "      <th>procedureAnalyticalMethod</th>\n",
              "      <th>parameterSampleDepth</th>\n",
              "      <th>resultObservationStatus</th>\n",
              "      <th>Remarks</th>\n",
              "      <th>metadata_versionId</th>\n",
              "      <th>metadata_beginLifeSpanVersion</th>\n",
              "      <th>metadata_statusCode</th>\n",
              "      <th>metadata_observationStatus</th>\n",
              "      <th>metadata_statements</th>\n",
              "      <th>UID</th>\n",
              "      <th>lon</th>\n",
              "      <th>lat</th>\n",
              "    </tr>\n",
              "  </thead>\n",
              "  <tbody>\n",
              "    <tr>\n",
              "      <th>0</th>\n",
              "      <td>UK25034780</td>\n",
              "      <td>eionetMonitoringSiteCode</td>\n",
              "      <td>RW</td>\n",
              "      <td>CAS_35065-28-2</td>\n",
              "      <td>total</td>\n",
              "      <td>water</td>\n",
              "      <td>ug/L</td>\n",
              "      <td>2012</td>\n",
              "      <td>2012-01--2012-12</td>\n",
              "      <td>0.001</td>\n",
              "      <td>4.0</td>\n",
              "      <td>4.0</td>\n",
              "      <td>1.0</td>\n",
              "      <td>0.001</td>\n",
              "      <td>1.0</td>\n",
              "      <td>0.001</td>\n",
              "      <td>1.0</td>\n",
              "      <td>0.001</td>\n",
              "      <td>NaN</td>\n",
              "      <td>NaN</td>\n",
              "      <td>0.0</td>\n",
              "      <td>NaN</td>\n",
              "      <td>0.0</td>\n",
              "      <td>NaN</td>\n",
              "      <td>NaN</td>\n",
              "      <td>http://discomap.eea.europa.eu/data/wisesoe/der...</td>\n",
              "      <td>2015-11-30 00:00:00.000</td>\n",
              "      <td>experimental</td>\n",
              "      <td>A</td>\n",
              "      <td>NaN</td>\n",
              "      <td>9233859</td>\n",
              "      <td>NaN</td>\n",
              "      <td>NaN</td>\n",
              "    </tr>\n",
              "    <tr>\n",
              "      <th>1</th>\n",
              "      <td>UK25034780</td>\n",
              "      <td>eionetMonitoringSiteCode</td>\n",
              "      <td>RW</td>\n",
              "      <td>CAS_7012-37-5</td>\n",
              "      <td>total</td>\n",
              "      <td>water</td>\n",
              "      <td>ug/L</td>\n",
              "      <td>2012</td>\n",
              "      <td>2012-01--2012-12</td>\n",
              "      <td>0.001</td>\n",
              "      <td>4.0</td>\n",
              "      <td>4.0</td>\n",
              "      <td>1.0</td>\n",
              "      <td>0.001</td>\n",
              "      <td>1.0</td>\n",
              "      <td>0.001</td>\n",
              "      <td>1.0</td>\n",
              "      <td>0.001</td>\n",
              "      <td>NaN</td>\n",
              "      <td>NaN</td>\n",
              "      <td>0.0</td>\n",
              "      <td>NaN</td>\n",
              "      <td>0.0</td>\n",
              "      <td>NaN</td>\n",
              "      <td>NaN</td>\n",
              "      <td>http://discomap.eea.europa.eu/data/wisesoe/der...</td>\n",
              "      <td>2015-11-30 00:00:00.000</td>\n",
              "      <td>experimental</td>\n",
              "      <td>A</td>\n",
              "      <td>NaN</td>\n",
              "      <td>9233860</td>\n",
              "      <td>NaN</td>\n",
              "      <td>NaN</td>\n",
              "    </tr>\n",
              "    <tr>\n",
              "      <th>2</th>\n",
              "      <td>UK12813020</td>\n",
              "      <td>eionetMonitoringSiteCode</td>\n",
              "      <td>RW</td>\n",
              "      <td>EEA_33-64-7</td>\n",
              "      <td>total</td>\n",
              "      <td>water</td>\n",
              "      <td>ug/L</td>\n",
              "      <td>2012</td>\n",
              "      <td>2012-01--2012-12</td>\n",
              "      <td>5.000</td>\n",
              "      <td>4.0</td>\n",
              "      <td>4.0</td>\n",
              "      <td>1.0</td>\n",
              "      <td>5.000</td>\n",
              "      <td>1.0</td>\n",
              "      <td>5.000</td>\n",
              "      <td>1.0</td>\n",
              "      <td>5.000</td>\n",
              "      <td>NaN</td>\n",
              "      <td>NaN</td>\n",
              "      <td>0.0</td>\n",
              "      <td>NaN</td>\n",
              "      <td>0.0</td>\n",
              "      <td>NaN</td>\n",
              "      <td>NaN</td>\n",
              "      <td>http://discomap.eea.europa.eu/data/wisesoe/der...</td>\n",
              "      <td>2015-11-30 00:00:00.000</td>\n",
              "      <td>experimental</td>\n",
              "      <td>U</td>\n",
              "      <td>QC_OBSERVEDPROPERTY_UNREQUESTED: The present o...</td>\n",
              "      <td>9233861</td>\n",
              "      <td>NaN</td>\n",
              "      <td>NaN</td>\n",
              "    </tr>\n",
              "    <tr>\n",
              "      <th>3</th>\n",
              "      <td>UK12813020</td>\n",
              "      <td>eionetMonitoringSiteCode</td>\n",
              "      <td>RW</td>\n",
              "      <td>CAS_37680-73-2</td>\n",
              "      <td>total</td>\n",
              "      <td>water</td>\n",
              "      <td>ug/L</td>\n",
              "      <td>2012</td>\n",
              "      <td>2012-01--2012-12</td>\n",
              "      <td>0.001</td>\n",
              "      <td>4.0</td>\n",
              "      <td>4.0</td>\n",
              "      <td>1.0</td>\n",
              "      <td>0.001</td>\n",
              "      <td>1.0</td>\n",
              "      <td>0.001</td>\n",
              "      <td>1.0</td>\n",
              "      <td>0.001</td>\n",
              "      <td>NaN</td>\n",
              "      <td>NaN</td>\n",
              "      <td>0.0</td>\n",
              "      <td>NaN</td>\n",
              "      <td>0.0</td>\n",
              "      <td>NaN</td>\n",
              "      <td>NaN</td>\n",
              "      <td>http://discomap.eea.europa.eu/data/wisesoe/der...</td>\n",
              "      <td>2015-11-30 00:00:00.000</td>\n",
              "      <td>experimental</td>\n",
              "      <td>A</td>\n",
              "      <td>NaN</td>\n",
              "      <td>9233862</td>\n",
              "      <td>NaN</td>\n",
              "      <td>NaN</td>\n",
              "    </tr>\n",
              "    <tr>\n",
              "      <th>4</th>\n",
              "      <td>IT01038490</td>\n",
              "      <td>euMonitoringSiteCode</td>\n",
              "      <td>RW</td>\n",
              "      <td>CAS_79-01-6</td>\n",
              "      <td>total</td>\n",
              "      <td>water</td>\n",
              "      <td>ug/L</td>\n",
              "      <td>2011</td>\n",
              "      <td>2011-01--2011-12</td>\n",
              "      <td>0.500</td>\n",
              "      <td>8.0</td>\n",
              "      <td>8.0</td>\n",
              "      <td>1.0</td>\n",
              "      <td>0.500</td>\n",
              "      <td>1.0</td>\n",
              "      <td>0.500</td>\n",
              "      <td>1.0</td>\n",
              "      <td>0.500</td>\n",
              "      <td>NaN</td>\n",
              "      <td>NaN</td>\n",
              "      <td>0.0</td>\n",
              "      <td>APAT CNR IRSA 5150 2003</td>\n",
              "      <td>NaN</td>\n",
              "      <td>NaN</td>\n",
              "      <td>NaN</td>\n",
              "      <td>http://discomap.eea.europa.eu/data/wisesoe/der...</td>\n",
              "      <td>2015-11-30 00:00:00.000</td>\n",
              "      <td>experimental</td>\n",
              "      <td>A</td>\n",
              "      <td>NaN</td>\n",
              "      <td>9233865</td>\n",
              "      <td>NaN</td>\n",
              "      <td>NaN</td>\n",
              "    </tr>\n",
              "  </tbody>\n",
              "</table>\n",
              "</div>"
            ],
            "text/plain": [
              "  monitoringSiteIdentifier monitoringSiteIdentifierScheme  ...  lon  lat\n",
              "0               UK25034780       eionetMonitoringSiteCode  ...  NaN  NaN\n",
              "1               UK25034780       eionetMonitoringSiteCode  ...  NaN  NaN\n",
              "2               UK12813020       eionetMonitoringSiteCode  ...  NaN  NaN\n",
              "3               UK12813020       eionetMonitoringSiteCode  ...  NaN  NaN\n",
              "4               IT01038490           euMonitoringSiteCode  ...  NaN  NaN\n",
              "\n",
              "[5 rows x 33 columns]"
            ]
          },
          "metadata": {
            "tags": []
          },
          "execution_count": 51
        }
      ]
    },
    {
      "cell_type": "code",
      "metadata": {
        "id": "AWCiMPCpmF14"
      },
      "source": [
        "result = pd.merge(water2, locationData, how='left',on=['monitoringSiteIdentifier'])"
      ],
      "execution_count": null,
      "outputs": []
    },
    {
      "cell_type": "code",
      "metadata": {
        "id": "CYWrIrUPwNtK"
      },
      "source": [
        "all = pd.merge(water1, locationData, how='left',on=['monitoringSiteIdentifier'])\n",
        "for i in datas[1:]:\n",
        "  result = pd.merge(i, locationData, how='left',on=['monitoringSiteIdentifier'])\n",
        "  all = pd.concat([all,result])"
      ],
      "execution_count": null,
      "outputs": []
    },
    {
      "cell_type": "code",
      "metadata": {
        "colab": {
          "base_uri": "https://localhost:8080/"
        },
        "id": "LBfU5fJkvLSl",
        "outputId": "0b07ae19-31cb-44ce-c86a-3c3adbac4f53"
      },
      "source": [
        "all.isna().sum()"
      ],
      "execution_count": null,
      "outputs": [
        {
          "output_type": "execute_result",
          "data": {
            "text/plain": [
              "monitoringSiteIdentifier                      0\n",
              "monitoringSiteIdentifierScheme_x              0\n",
              "parameterWaterBodyCategory                    0\n",
              "observedPropertyDeterminandCode               0\n",
              "procedureAnalysedFraction                     0\n",
              "procedureAnalysedMedia                        0\n",
              "resultUom                                     0\n",
              "phenomenonTimeReferenceYear                   0\n",
              "parameterSamplingPeriod                   28988\n",
              "procedureLOQValue                       1453120\n",
              "resultNumberOfSamples                     59730\n",
              "resultQualityNumberOfSamplesBelowLOQ    1786484\n",
              "resultQualityMinimumBelowLOQ            1418121\n",
              "resultMinimumValue                       101255\n",
              "resultQualityMeanBelowLOQ               1420847\n",
              "resultMeanValue                            6466\n",
              "resultQualityMaximumBelowLOQ            1416945\n",
              "resultMaximumValue                        99505\n",
              "resultQualityMedianBelowLOQ             2055618\n",
              "resultMedianValue                       1239541\n",
              "resultStandardDeviationValue             618656\n",
              "procedureAnalyticalMethod               2505338\n",
              "parameterSampleDepth                    1343593\n",
              "resultObservationStatus                 2589786\n",
              "Remarks                                 2024883\n",
              "metadata_versionId                            0\n",
              "metadata_beginLifeSpanVersion                 0\n",
              "metadata_statusCode                           0\n",
              "metadata_observationStatus                    0\n",
              "metadata_statements                     2790837\n",
              "UID                                           0\n",
              "lon_x                                   2890709\n",
              "lat_x                                   2890709\n",
              "monitoringSiteIdentifierScheme_y              0\n",
              "waterBodyIdentifier                      103864\n",
              "waterBodyIdentifierScheme                103864\n",
              "confidentialityStatus                         0\n",
              "lon_y                                   2890709\n",
              "lat_y                                   2890709\n",
              "lon                                           0\n",
              "lat                                           0\n",
              "dtype: int64"
            ]
          },
          "metadata": {
            "tags": []
          },
          "execution_count": 70
        }
      ]
    },
    {
      "cell_type": "code",
      "metadata": {
        "id": "7Z08JbHSydcC"
      },
      "source": [
        "all.dropna(subset=['lon', 'lat'],inplace = True)"
      ],
      "execution_count": null,
      "outputs": []
    },
    {
      "cell_type": "code",
      "metadata": {
        "colab": {
          "base_uri": "https://localhost:8080/",
          "height": 232
        },
        "id": "ZA0WQZm26vL-",
        "outputId": "3fa6d41d-1eaa-48e3-e89d-3f98955916d9"
      },
      "source": [
        "all.head()"
      ],
      "execution_count": null,
      "outputs": [
        {
          "output_type": "execute_result",
          "data": {
            "text/html": [
              "<div>\n",
              "<style scoped>\n",
              "    .dataframe tbody tr th:only-of-type {\n",
              "        vertical-align: middle;\n",
              "    }\n",
              "\n",
              "    .dataframe tbody tr th {\n",
              "        vertical-align: top;\n",
              "    }\n",
              "\n",
              "    .dataframe thead th {\n",
              "        text-align: right;\n",
              "    }\n",
              "</style>\n",
              "<table border=\"1\" class=\"dataframe\">\n",
              "  <thead>\n",
              "    <tr style=\"text-align: right;\">\n",
              "      <th></th>\n",
              "      <th>monitoringSiteIdentifier</th>\n",
              "      <th>monitoringSiteIdentifierScheme_x</th>\n",
              "      <th>parameterWaterBodyCategory</th>\n",
              "      <th>observedPropertyDeterminandCode</th>\n",
              "      <th>procedureAnalysedFraction</th>\n",
              "      <th>procedureAnalysedMedia</th>\n",
              "      <th>resultUom</th>\n",
              "      <th>phenomenonTimeReferenceYear</th>\n",
              "      <th>parameterSamplingPeriod</th>\n",
              "      <th>procedureLOQValue</th>\n",
              "      <th>resultNumberOfSamples</th>\n",
              "      <th>resultQualityNumberOfSamplesBelowLOQ</th>\n",
              "      <th>resultQualityMinimumBelowLOQ</th>\n",
              "      <th>resultMinimumValue</th>\n",
              "      <th>resultQualityMeanBelowLOQ</th>\n",
              "      <th>resultMeanValue</th>\n",
              "      <th>resultQualityMaximumBelowLOQ</th>\n",
              "      <th>resultMaximumValue</th>\n",
              "      <th>resultQualityMedianBelowLOQ</th>\n",
              "      <th>resultMedianValue</th>\n",
              "      <th>resultStandardDeviationValue</th>\n",
              "      <th>procedureAnalyticalMethod</th>\n",
              "      <th>parameterSampleDepth</th>\n",
              "      <th>resultObservationStatus</th>\n",
              "      <th>Remarks</th>\n",
              "      <th>metadata_versionId</th>\n",
              "      <th>metadata_beginLifeSpanVersion</th>\n",
              "      <th>metadata_statusCode</th>\n",
              "      <th>metadata_observationStatus</th>\n",
              "      <th>metadata_statements</th>\n",
              "      <th>UID</th>\n",
              "      <th>lon_x</th>\n",
              "      <th>lat_x</th>\n",
              "      <th>monitoringSiteIdentifierScheme_y</th>\n",
              "      <th>waterBodyIdentifier</th>\n",
              "      <th>waterBodyIdentifierScheme</th>\n",
              "      <th>confidentialityStatus</th>\n",
              "      <th>lon_y</th>\n",
              "      <th>lat_y</th>\n",
              "      <th>lon</th>\n",
              "      <th>lat</th>\n",
              "    </tr>\n",
              "  </thead>\n",
              "  <tbody>\n",
              "    <tr>\n",
              "      <th>0</th>\n",
              "      <td>FRDR06036970</td>\n",
              "      <td>euMonitoringSiteCode</td>\n",
              "      <td>RW</td>\n",
              "      <td>CAS_14797-65-0</td>\n",
              "      <td>total</td>\n",
              "      <td>water</td>\n",
              "      <td>mg{NO2}/L</td>\n",
              "      <td>2009</td>\n",
              "      <td>2009-01--2009-12</td>\n",
              "      <td>NaN</td>\n",
              "      <td>6.0</td>\n",
              "      <td>NaN</td>\n",
              "      <td>NaN</td>\n",
              "      <td>0.029989</td>\n",
              "      <td>NaN</td>\n",
              "      <td>0.063310</td>\n",
              "      <td>NaN</td>\n",
              "      <td>0.119956</td>\n",
              "      <td>NaN</td>\n",
              "      <td>0.054980</td>\n",
              "      <td>0.010832</td>\n",
              "      <td>NaN</td>\n",
              "      <td>0.0</td>\n",
              "      <td>NaN</td>\n",
              "      <td>NaN</td>\n",
              "      <td>http://discomap.eea.europa.eu/data/wisesoe/der...</td>\n",
              "      <td>2015-11-30 00:00:00.000</td>\n",
              "      <td>experimental</td>\n",
              "      <td>A</td>\n",
              "      <td>NaN</td>\n",
              "      <td>811508</td>\n",
              "      <td>NaN</td>\n",
              "      <td>NaN</td>\n",
              "      <td>euMonitoringSiteCode</td>\n",
              "      <td>FRDR609</td>\n",
              "      <td>euSurfaceWaterBodyCode</td>\n",
              "      <td>F</td>\n",
              "      <td>NaN</td>\n",
              "      <td>NaN</td>\n",
              "      <td>4.99635</td>\n",
              "      <td>46.98310</td>\n",
              "    </tr>\n",
              "    <tr>\n",
              "      <th>1</th>\n",
              "      <td>FRFR05232000</td>\n",
              "      <td>euMonitoringSiteCode</td>\n",
              "      <td>RW</td>\n",
              "      <td>CAS_14797-65-0</td>\n",
              "      <td>total</td>\n",
              "      <td>water</td>\n",
              "      <td>mg{NO2}/L</td>\n",
              "      <td>2009</td>\n",
              "      <td>2009-01--2009-12</td>\n",
              "      <td>0.06569</td>\n",
              "      <td>12.0</td>\n",
              "      <td>NaN</td>\n",
              "      <td>1.0</td>\n",
              "      <td>0.009996</td>\n",
              "      <td>1.0</td>\n",
              "      <td>0.046733</td>\n",
              "      <td>0.0</td>\n",
              "      <td>0.090967</td>\n",
              "      <td>1.0</td>\n",
              "      <td>0.047732</td>\n",
              "      <td>0.007152</td>\n",
              "      <td>NaN</td>\n",
              "      <td>0.0</td>\n",
              "      <td>NaN</td>\n",
              "      <td>NaN</td>\n",
              "      <td>http://discomap.eea.europa.eu/data/wisesoe/der...</td>\n",
              "      <td>2015-11-30 00:00:00.000</td>\n",
              "      <td>experimental</td>\n",
              "      <td>A</td>\n",
              "      <td>NaN</td>\n",
              "      <td>876614</td>\n",
              "      <td>NaN</td>\n",
              "      <td>NaN</td>\n",
              "      <td>euMonitoringSiteCode</td>\n",
              "      <td>FRFR238</td>\n",
              "      <td>euSurfaceWaterBodyCode</td>\n",
              "      <td>F</td>\n",
              "      <td>NaN</td>\n",
              "      <td>NaN</td>\n",
              "      <td>-0.23809</td>\n",
              "      <td>43.67623</td>\n",
              "    </tr>\n",
              "    <tr>\n",
              "      <th>2</th>\n",
              "      <td>FRFR05232000</td>\n",
              "      <td>euMonitoringSiteCode</td>\n",
              "      <td>RW</td>\n",
              "      <td>EEA_3164-07-6</td>\n",
              "      <td>total</td>\n",
              "      <td>water</td>\n",
              "      <td>{massRatio}</td>\n",
              "      <td>2009</td>\n",
              "      <td>2009-01--2009-12</td>\n",
              "      <td>NaN</td>\n",
              "      <td>12.0</td>\n",
              "      <td>NaN</td>\n",
              "      <td>NaN</td>\n",
              "      <td>20.181700</td>\n",
              "      <td>NaN</td>\n",
              "      <td>132.859000</td>\n",
              "      <td>NaN</td>\n",
              "      <td>586.440000</td>\n",
              "      <td>NaN</td>\n",
              "      <td>82.690600</td>\n",
              "      <td>151.755000</td>\n",
              "      <td>NaN</td>\n",
              "      <td>0.0</td>\n",
              "      <td>NaN</td>\n",
              "      <td>NaN</td>\n",
              "      <td>http://discomap.eea.europa.eu/data/wisesoe/der...</td>\n",
              "      <td>2015-11-30 00:00:00.000</td>\n",
              "      <td>experimental</td>\n",
              "      <td>A</td>\n",
              "      <td>NaN</td>\n",
              "      <td>876679</td>\n",
              "      <td>NaN</td>\n",
              "      <td>NaN</td>\n",
              "      <td>euMonitoringSiteCode</td>\n",
              "      <td>FRFR238</td>\n",
              "      <td>euSurfaceWaterBodyCode</td>\n",
              "      <td>F</td>\n",
              "      <td>NaN</td>\n",
              "      <td>NaN</td>\n",
              "      <td>-0.23809</td>\n",
              "      <td>43.67623</td>\n",
              "    </tr>\n",
              "    <tr>\n",
              "      <th>3</th>\n",
              "      <td>FRFR05233000</td>\n",
              "      <td>euMonitoringSiteCode</td>\n",
              "      <td>RW</td>\n",
              "      <td>CAS_14797-55-8</td>\n",
              "      <td>total</td>\n",
              "      <td>water</td>\n",
              "      <td>mg{NO3}/L</td>\n",
              "      <td>2009</td>\n",
              "      <td>2009-01--2009-12</td>\n",
              "      <td>NaN</td>\n",
              "      <td>12.0</td>\n",
              "      <td>NaN</td>\n",
              "      <td>NaN</td>\n",
              "      <td>8.287078</td>\n",
              "      <td>NaN</td>\n",
              "      <td>11.578376</td>\n",
              "      <td>NaN</td>\n",
              "      <td>16.993969</td>\n",
              "      <td>NaN</td>\n",
              "      <td>10.016442</td>\n",
              "      <td>0.721133</td>\n",
              "      <td>NaN</td>\n",
              "      <td>0.0</td>\n",
              "      <td>NaN</td>\n",
              "      <td>NaN</td>\n",
              "      <td>http://discomap.eea.europa.eu/data/wisesoe/der...</td>\n",
              "      <td>2015-11-30 00:00:00.000</td>\n",
              "      <td>experimental</td>\n",
              "      <td>A</td>\n",
              "      <td>NaN</td>\n",
              "      <td>876716</td>\n",
              "      <td>NaN</td>\n",
              "      <td>NaN</td>\n",
              "      <td>euMonitoringSiteCode</td>\n",
              "      <td>FRFR327C</td>\n",
              "      <td>euSurfaceWaterBodyCode</td>\n",
              "      <td>F</td>\n",
              "      <td>NaN</td>\n",
              "      <td>NaN</td>\n",
              "      <td>-0.15118</td>\n",
              "      <td>43.65393</td>\n",
              "    </tr>\n",
              "    <tr>\n",
              "      <th>4</th>\n",
              "      <td>ESRW-17-120</td>\n",
              "      <td>eionetMonitoringSiteCode</td>\n",
              "      <td>RW</td>\n",
              "      <td>EEA_3151-01-7</td>\n",
              "      <td>total</td>\n",
              "      <td>water</td>\n",
              "      <td>mmol/L</td>\n",
              "      <td>2009</td>\n",
              "      <td>2009-01--2009-12</td>\n",
              "      <td>NaN</td>\n",
              "      <td>21.0</td>\n",
              "      <td>NaN</td>\n",
              "      <td>NaN</td>\n",
              "      <td>0.128500</td>\n",
              "      <td>NaN</td>\n",
              "      <td>0.206800</td>\n",
              "      <td>NaN</td>\n",
              "      <td>0.364400</td>\n",
              "      <td>NaN</td>\n",
              "      <td>0.196600</td>\n",
              "      <td>0.060300</td>\n",
              "      <td>NaN</td>\n",
              "      <td>0.0</td>\n",
              "      <td>NaN</td>\n",
              "      <td>NaN</td>\n",
              "      <td>http://discomap.eea.europa.eu/data/wisesoe/der...</td>\n",
              "      <td>2015-11-30 00:00:00.000</td>\n",
              "      <td>experimental</td>\n",
              "      <td>A</td>\n",
              "      <td>NaN</td>\n",
              "      <td>670707</td>\n",
              "      <td>NaN</td>\n",
              "      <td>NaN</td>\n",
              "      <td>eionetMonitoringSiteCode</td>\n",
              "      <td>ES014MSPFES-014-NR-038-000-02-02</td>\n",
              "      <td>euSurfaceWaterBodyCode</td>\n",
              "      <td>F</td>\n",
              "      <td>NaN</td>\n",
              "      <td>NaN</td>\n",
              "      <td>-7.59115</td>\n",
              "      <td>43.61870</td>\n",
              "    </tr>\n",
              "  </tbody>\n",
              "</table>\n",
              "</div>"
            ],
            "text/plain": [
              "  monitoringSiteIdentifier monitoringSiteIdentifierScheme_x  ...      lon       lat\n",
              "0             FRDR06036970             euMonitoringSiteCode  ...  4.99635  46.98310\n",
              "1             FRFR05232000             euMonitoringSiteCode  ... -0.23809  43.67623\n",
              "2             FRFR05232000             euMonitoringSiteCode  ... -0.23809  43.67623\n",
              "3             FRFR05233000             euMonitoringSiteCode  ... -0.15118  43.65393\n",
              "4              ESRW-17-120         eionetMonitoringSiteCode  ... -7.59115  43.61870\n",
              "\n",
              "[5 rows x 41 columns]"
            ]
          },
          "metadata": {
            "tags": []
          },
          "execution_count": 73
        }
      ]
    },
    {
      "cell_type": "code",
      "metadata": {
        "id": "ierYjfK44FDS"
      },
      "source": [
        "all.to_csv(\"finalData.csv\",index=False)"
      ],
      "execution_count": null,
      "outputs": []
    },
    {
      "cell_type": "code",
      "metadata": {
        "id": "wVdpH45lqhLj"
      },
      "source": [
        "locationData = pd.read_csv(\"/content/Waterbase_v2018_1_WISE4_MonitoringSite_DerivedData.csv\")"
      ],
      "execution_count": null,
      "outputs": []
    },
    {
      "cell_type": "code",
      "metadata": {
        "colab": {
          "base_uri": "https://localhost:8080/"
        },
        "id": "whMwE1P74tx2",
        "outputId": "323a3d8e-6b55-463d-9bbf-8aabe6291693"
      },
      "source": [
        "#@title save yo data to drive\n",
        "filename = \"finalData\" #@param {type:\"string\"}\n",
        "folders_or_files_to_save = \"finalData.csv\" #@param {type:\"string\"}\n",
        "from google.colab import files\n",
        "from google.colab import auth\n",
        "from googleapiclient.http import MediaFileUpload\n",
        "from googleapiclient.discovery import build\n",
        "\n",
        "def save_file_to_drive(name, path):\n",
        "    file_metadata = {\n",
        "    'name': name,\n",
        "    'mimeType': 'application/octet-stream'\n",
        "    }\n",
        "\n",
        "    media = MediaFileUpload(path, \n",
        "                  mimetype='application/octet-stream',\n",
        "                  resumable=True)\n",
        "\n",
        "    created = drive_service.files().create(body=file_metadata, media_body=media, fields='id').execute()\n",
        "\n",
        "    print('File ID: {}'.format(created.get('id')))\n",
        "\n",
        "    return created\n",
        "\n",
        "\n",
        "extension_zip = \".zip\"\n",
        "\n",
        "zip_file = filename + extension_zip\n",
        "\n",
        "# !rm -rf $zip_file\n",
        "!zip -r $zip_file {folders_or_files_to_save} # FOLDERS TO SAVE INTO ZIP FILE\n",
        "\n",
        "auth.authenticate_user()\n",
        "drive_service = build('drive', 'v3')\n",
        "\n",
        "destination_name = zip_file\n",
        "path_to_file = zip_file\n",
        "save_file_to_drive(destination_name, path_to_file)"
      ],
      "execution_count": null,
      "outputs": [
        {
          "output_type": "stream",
          "text": [
            "  adding: finalData.csv (deflated 91%)\n",
            "File ID: 12X9fH9_TZBQUE7dEnATxTQKAgEw7Jm_l\n"
          ],
          "name": "stdout"
        },
        {
          "output_type": "execute_result",
          "data": {
            "text/plain": [
              "{'id': '12X9fH9_TZBQUE7dEnATxTQKAgEw7Jm_l'}"
            ]
          },
          "metadata": {
            "tags": []
          },
          "execution_count": 72
        }
      ]
    },
    {
      "cell_type": "code",
      "metadata": {
        "colab": {
          "base_uri": "https://localhost:8080/"
        },
        "id": "CHJu8sX2vFG3",
        "outputId": "b32c38eb-2d39-4b8b-9d85-80f823e98d8b"
      },
      "source": [
        "locationData.isna()\\\n",
        "            .sum()"
      ],
      "execution_count": null,
      "outputs": [
        {
          "output_type": "execute_result",
          "data": {
            "text/plain": [
              "monitoringSiteIdentifier              0\n",
              "monitoringSiteIdentifierScheme        0\n",
              "waterBodyIdentifier                2457\n",
              "waterBodyIdentifierScheme          2457\n",
              "confidentialityStatus                 0\n",
              "lon                               13208\n",
              "lat                               13208\n",
              "dtype: int64"
            ]
          },
          "metadata": {
            "tags": []
          },
          "execution_count": 14
        }
      ]
    },
    {
      "cell_type": "code",
      "metadata": {
        "id": "sXTR0AaPvKtS"
      },
      "source": [
        "locationData.fillna(\"NaN\",inplace=True)"
      ],
      "execution_count": null,
      "outputs": []
    },
    {
      "cell_type": "code",
      "metadata": {
        "id": "MKlwqs11219P"
      },
      "source": [
        "locationData.drop(locationData[locationData[\"lon\"] != \"NaN\"].index,axis = 0,inplace=True)"
      ],
      "execution_count": null,
      "outputs": []
    },
    {
      "cell_type": "code",
      "metadata": {
        "colab": {
          "base_uri": "https://localhost:8080/"
        },
        "id": "4o7BDcDm787M",
        "outputId": "9b17d1ab-5162-48a2-8069-3d97542c98a3"
      },
      "source": [
        "locationData.shape"
      ],
      "execution_count": null,
      "outputs": [
        {
          "output_type": "execute_result",
          "data": {
            "text/plain": [
              "(13208, 7)"
            ]
          },
          "metadata": {
            "tags": []
          },
          "execution_count": 17
        }
      ]
    },
    {
      "cell_type": "code",
      "metadata": {
        "colab": {
          "base_uri": "https://localhost:8080/"
        },
        "id": "Gua4Gsy8-wZy",
        "outputId": "3a99ad94-9d33-4336-b051-f35994fda349"
      },
      "source": [
        "locationData.columns"
      ],
      "execution_count": null,
      "outputs": [
        {
          "output_type": "execute_result",
          "data": {
            "text/plain": [
              "Index(['monitoringSiteIdentifier', 'monitoringSiteIdentifierScheme',\n",
              "       'waterBodyIdentifier', 'waterBodyIdentifierScheme',\n",
              "       'confidentialityStatus', 'lon', 'lat'],\n",
              "      dtype='object')"
            ]
          },
          "metadata": {
            "tags": []
          },
          "execution_count": 18
        }
      ]
    },
    {
      "cell_type": "code",
      "metadata": {
        "colab": {
          "base_uri": "https://localhost:8080/"
        },
        "id": "nH4mDS_HAAmx",
        "outputId": "9b897670-45a6-4446-b2dd-9119dbacc8ce"
      },
      "source": [
        "waterData.columns"
      ],
      "execution_count": null,
      "outputs": [
        {
          "output_type": "execute_result",
          "data": {
            "text/plain": [
              "Index(['monitoringSiteIdentifier', 'monitoringSiteIdentifierScheme',\n",
              "       'parameterWaterBodyCategory', 'observedPropertyDeterminandCode',\n",
              "       'procedureAnalysedFraction', 'procedureAnalysedMedia', 'resultUom',\n",
              "       'phenomenonTimeReferenceYear', 'parameterSamplingPeriod',\n",
              "       'procedureLOQValue', 'resultNumberOfSamples',\n",
              "       'resultQualityNumberOfSamplesBelowLOQ', 'resultQualityMinimumBelowLOQ',\n",
              "       'resultMinimumValue', 'resultQualityMeanBelowLOQ', 'resultMeanValue',\n",
              "       'resultQualityMaximumBelowLOQ', 'resultMaximumValue',\n",
              "       'resultQualityMedianBelowLOQ', 'resultMedianValue',\n",
              "       'resultStandardDeviationValue', 'procedureAnalyticalMethod',\n",
              "       'parameterSampleDepth', 'resultObservationStatus', 'Remarks',\n",
              "       'metadata_versionId', 'metadata_beginLifeSpanVersion',\n",
              "       'metadata_statusCode', 'metadata_observationStatus',\n",
              "       'metadata_statements', 'UID'],\n",
              "      dtype='object')"
            ]
          },
          "metadata": {
            "tags": []
          },
          "execution_count": 19
        }
      ]
    },
    {
      "cell_type": "code",
      "metadata": {
        "id": "HdDiUe5H_Lvc"
      },
      "source": [
        "NAs = locationData.monitoringSiteIdentifier.unique()"
      ],
      "execution_count": null,
      "outputs": []
    },
    {
      "cell_type": "code",
      "metadata": {
        "colab": {
          "base_uri": "https://localhost:8080/",
          "height": 323
        },
        "id": "g9kWaFRq_OUS",
        "outputId": "f8e1bfd0-d40d-4618-b83b-4403bfe05022"
      },
      "source": [
        "for i in NAs:\n",
        "  waterData.drop(waterData[waterData[\"monitoringSiteIdentifier\"] == i].index,axis=0,inplace=True)"
      ],
      "execution_count": null,
      "outputs": [
        {
          "output_type": "error",
          "ename": "KeyboardInterrupt",
          "evalue": "ignored",
          "traceback": [
            "\u001b[0;31m---------------------------------------------------------------------------\u001b[0m",
            "\u001b[0;31mKeyboardInterrupt\u001b[0m                         Traceback (most recent call last)",
            "\u001b[0;32m<ipython-input-40-c16dc56ae8ba>\u001b[0m in \u001b[0;36m<module>\u001b[0;34m()\u001b[0m\n\u001b[1;32m      1\u001b[0m \u001b[0;32mfor\u001b[0m \u001b[0mi\u001b[0m \u001b[0;32min\u001b[0m \u001b[0mNAs\u001b[0m\u001b[0;34m:\u001b[0m\u001b[0;34m\u001b[0m\u001b[0;34m\u001b[0m\u001b[0m\n\u001b[0;32m----> 2\u001b[0;31m   \u001b[0mwaterData\u001b[0m\u001b[0;34m.\u001b[0m\u001b[0mdrop\u001b[0m\u001b[0;34m(\u001b[0m\u001b[0mwaterData\u001b[0m\u001b[0;34m[\u001b[0m\u001b[0mwaterData\u001b[0m\u001b[0;34m[\u001b[0m\u001b[0;34m\"monitoringSiteIdentifier\"\u001b[0m\u001b[0;34m]\u001b[0m \u001b[0;34m==\u001b[0m \u001b[0mi\u001b[0m\u001b[0;34m]\u001b[0m\u001b[0;34m.\u001b[0m\u001b[0mindex\u001b[0m\u001b[0;34m,\u001b[0m\u001b[0maxis\u001b[0m\u001b[0;34m=\u001b[0m\u001b[0;36m0\u001b[0m\u001b[0;34m,\u001b[0m\u001b[0minplace\u001b[0m\u001b[0;34m=\u001b[0m\u001b[0;32mTrue\u001b[0m\u001b[0;34m)\u001b[0m\u001b[0;34m\u001b[0m\u001b[0;34m\u001b[0m\u001b[0m\n\u001b[0m",
            "\u001b[0;32m/usr/local/lib/python3.6/dist-packages/pandas/core/frame.py\u001b[0m in \u001b[0;36mdrop\u001b[0;34m(self, labels, axis, index, columns, level, inplace, errors)\u001b[0m\n\u001b[1;32m   4172\u001b[0m             \u001b[0mlevel\u001b[0m\u001b[0;34m=\u001b[0m\u001b[0mlevel\u001b[0m\u001b[0;34m,\u001b[0m\u001b[0;34m\u001b[0m\u001b[0;34m\u001b[0m\u001b[0m\n\u001b[1;32m   4173\u001b[0m             \u001b[0minplace\u001b[0m\u001b[0;34m=\u001b[0m\u001b[0minplace\u001b[0m\u001b[0;34m,\u001b[0m\u001b[0;34m\u001b[0m\u001b[0;34m\u001b[0m\u001b[0m\n\u001b[0;32m-> 4174\u001b[0;31m             \u001b[0merrors\u001b[0m\u001b[0;34m=\u001b[0m\u001b[0merrors\u001b[0m\u001b[0;34m,\u001b[0m\u001b[0;34m\u001b[0m\u001b[0;34m\u001b[0m\u001b[0m\n\u001b[0m\u001b[1;32m   4175\u001b[0m         )\n\u001b[1;32m   4176\u001b[0m \u001b[0;34m\u001b[0m\u001b[0m\n",
            "\u001b[0;32m/usr/local/lib/python3.6/dist-packages/pandas/core/generic.py\u001b[0m in \u001b[0;36mdrop\u001b[0;34m(self, labels, axis, index, columns, level, inplace, errors)\u001b[0m\n\u001b[1;32m   3888\u001b[0m \u001b[0;34m\u001b[0m\u001b[0m\n\u001b[1;32m   3889\u001b[0m         \u001b[0;32mif\u001b[0m \u001b[0minplace\u001b[0m\u001b[0;34m:\u001b[0m\u001b[0;34m\u001b[0m\u001b[0;34m\u001b[0m\u001b[0m\n\u001b[0;32m-> 3890\u001b[0;31m             \u001b[0mself\u001b[0m\u001b[0;34m.\u001b[0m\u001b[0m_update_inplace\u001b[0m\u001b[0;34m(\u001b[0m\u001b[0mobj\u001b[0m\u001b[0;34m)\u001b[0m\u001b[0;34m\u001b[0m\u001b[0;34m\u001b[0m\u001b[0m\n\u001b[0m\u001b[1;32m   3891\u001b[0m         \u001b[0;32melse\u001b[0m\u001b[0;34m:\u001b[0m\u001b[0;34m\u001b[0m\u001b[0;34m\u001b[0m\u001b[0m\n\u001b[1;32m   3892\u001b[0m             \u001b[0;32mreturn\u001b[0m \u001b[0mobj\u001b[0m\u001b[0;34m\u001b[0m\u001b[0;34m\u001b[0m\u001b[0m\n",
            "\u001b[0;32m/usr/local/lib/python3.6/dist-packages/pandas/core/generic.py\u001b[0m in \u001b[0;36m_update_inplace\u001b[0;34m(self, result, verify_is_copy)\u001b[0m\n\u001b[1;32m   3961\u001b[0m         \u001b[0mself\u001b[0m\u001b[0;34m.\u001b[0m\u001b[0m_reset_cache\u001b[0m\u001b[0;34m(\u001b[0m\u001b[0;34m)\u001b[0m\u001b[0;34m\u001b[0m\u001b[0;34m\u001b[0m\u001b[0m\n\u001b[1;32m   3962\u001b[0m         \u001b[0mself\u001b[0m\u001b[0;34m.\u001b[0m\u001b[0m_clear_item_cache\u001b[0m\u001b[0;34m(\u001b[0m\u001b[0;34m)\u001b[0m\u001b[0;34m\u001b[0m\u001b[0;34m\u001b[0m\u001b[0m\n\u001b[0;32m-> 3963\u001b[0;31m         \u001b[0mself\u001b[0m\u001b[0;34m.\u001b[0m\u001b[0m_mgr\u001b[0m \u001b[0;34m=\u001b[0m \u001b[0mresult\u001b[0m\u001b[0;34m.\u001b[0m\u001b[0m_mgr\u001b[0m\u001b[0;34m\u001b[0m\u001b[0;34m\u001b[0m\u001b[0m\n\u001b[0m\u001b[1;32m   3964\u001b[0m         \u001b[0mself\u001b[0m\u001b[0;34m.\u001b[0m\u001b[0m_maybe_update_cacher\u001b[0m\u001b[0;34m(\u001b[0m\u001b[0mverify_is_copy\u001b[0m\u001b[0;34m=\u001b[0m\u001b[0mverify_is_copy\u001b[0m\u001b[0;34m)\u001b[0m\u001b[0;34m\u001b[0m\u001b[0;34m\u001b[0m\u001b[0m\n\u001b[1;32m   3965\u001b[0m \u001b[0;34m\u001b[0m\u001b[0m\n",
            "\u001b[0;32m/usr/local/lib/python3.6/dist-packages/pandas/core/generic.py\u001b[0m in \u001b[0;36m__setattr__\u001b[0;34m(self, name, value)\u001b[0m\n\u001b[1;32m   5150\u001b[0m         \u001b[0;32mtry\u001b[0m\u001b[0;34m:\u001b[0m\u001b[0;34m\u001b[0m\u001b[0;34m\u001b[0m\u001b[0m\n\u001b[1;32m   5151\u001b[0m             \u001b[0mobject\u001b[0m\u001b[0;34m.\u001b[0m\u001b[0m__getattribute__\u001b[0m\u001b[0;34m(\u001b[0m\u001b[0mself\u001b[0m\u001b[0;34m,\u001b[0m \u001b[0mname\u001b[0m\u001b[0;34m)\u001b[0m\u001b[0;34m\u001b[0m\u001b[0;34m\u001b[0m\u001b[0m\n\u001b[0;32m-> 5152\u001b[0;31m             \u001b[0;32mreturn\u001b[0m \u001b[0mobject\u001b[0m\u001b[0;34m.\u001b[0m\u001b[0m__setattr__\u001b[0m\u001b[0;34m(\u001b[0m\u001b[0mself\u001b[0m\u001b[0;34m,\u001b[0m \u001b[0mname\u001b[0m\u001b[0;34m,\u001b[0m \u001b[0mvalue\u001b[0m\u001b[0;34m)\u001b[0m\u001b[0;34m\u001b[0m\u001b[0;34m\u001b[0m\u001b[0m\n\u001b[0m\u001b[1;32m   5153\u001b[0m         \u001b[0;32mexcept\u001b[0m \u001b[0mAttributeError\u001b[0m\u001b[0;34m:\u001b[0m\u001b[0;34m\u001b[0m\u001b[0;34m\u001b[0m\u001b[0m\n\u001b[1;32m   5154\u001b[0m             \u001b[0;32mpass\u001b[0m\u001b[0;34m\u001b[0m\u001b[0;34m\u001b[0m\u001b[0m\n",
            "\u001b[0;31mKeyboardInterrupt\u001b[0m: "
          ]
        }
      ]
    }
  ]
}